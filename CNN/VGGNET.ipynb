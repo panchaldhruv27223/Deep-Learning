{
  "cells": [
    {
      "cell_type": "code",
      "execution_count": null,
      "metadata": {
        "colab": {
          "base_uri": "https://localhost:8080/"
        },
        "id": "aj0jGRBCNV0H",
        "outputId": "a63eb8fe-a1ab-456d-a701-83561e5bdf12"
      },
      "outputs": [
        {
          "output_type": "stream",
          "name": "stdout",
          "text": [
            "Collecting tflearn\n",
            "  Downloading tflearn-0.5.0.tar.gz (107 kB)\n",
            "\u001b[2K     \u001b[90m━━━━━━━━━━━━━━━━━━━━━━━━━━━━━━━━━━━━━━━━\u001b[0m \u001b[32m107.3/107.3 kB\u001b[0m \u001b[31m1.4 MB/s\u001b[0m eta \u001b[36m0:00:00\u001b[0m\n",
            "\u001b[?25h  Preparing metadata (setup.py) ... \u001b[?25l\u001b[?25hdone\n",
            "Requirement already satisfied: numpy in /usr/local/lib/python3.10/dist-packages (from tflearn) (1.25.2)\n",
            "Requirement already satisfied: six in /usr/local/lib/python3.10/dist-packages (from tflearn) (1.16.0)\n",
            "Requirement already satisfied: Pillow in /usr/local/lib/python3.10/dist-packages (from tflearn) (9.4.0)\n",
            "Building wheels for collected packages: tflearn\n",
            "  Building wheel for tflearn (setup.py) ... \u001b[?25l\u001b[?25hdone\n",
            "  Created wheel for tflearn: filename=tflearn-0.5.0-py3-none-any.whl size=127283 sha256=d2f3bcaaabe1b9147fe2f059d6265416b42c2a8bb46b75575a1eefbd8436c2a3\n",
            "  Stored in directory: /root/.cache/pip/wheels/55/fb/7b/e06204a0ceefa45443930b9a250cb5ebe31def0e4e8245a465\n",
            "Successfully built tflearn\n",
            "Installing collected packages: tflearn\n",
            "Successfully installed tflearn-0.5.0\n"
          ]
        }
      ],
      "source": [
        "!pip install tflearn"
      ]
    },
    {
      "cell_type": "code",
      "execution_count": null,
      "metadata": {
        "colab": {
          "base_uri": "https://localhost:8080/",
          "height": 1000
        },
        "id": "RE_TpPlbODqq",
        "outputId": "40cc72d7-ea2a-47b6-d5ce-2691be7cdcb0"
      },
      "outputs": [
        {
          "output_type": "stream",
          "name": "stdout",
          "text": [
            "Collecting tensorflow==2.12.0\n",
            "  Downloading tensorflow-2.12.0-cp310-cp310-manylinux_2_17_x86_64.manylinux2014_x86_64.whl (585.9 MB)\n",
            "\u001b[2K     \u001b[90m━━━━━━━━━━━━━━━━━━━━━━━━━━━━━━━━━━━━━━━━\u001b[0m \u001b[32m585.9/585.9 MB\u001b[0m \u001b[31m2.1 MB/s\u001b[0m eta \u001b[36m0:00:00\u001b[0m\n",
            "\u001b[?25hRequirement already satisfied: absl-py>=1.0.0 in /usr/local/lib/python3.10/dist-packages (from tensorflow==2.12.0) (1.4.0)\n",
            "Requirement already satisfied: astunparse>=1.6.0 in /usr/local/lib/python3.10/dist-packages (from tensorflow==2.12.0) (1.6.3)\n",
            "Requirement already satisfied: flatbuffers>=2.0 in /usr/local/lib/python3.10/dist-packages (from tensorflow==2.12.0) (24.3.7)\n",
            "Collecting gast<=0.4.0,>=0.2.1 (from tensorflow==2.12.0)\n",
            "  Downloading gast-0.4.0-py3-none-any.whl (9.8 kB)\n",
            "Requirement already satisfied: google-pasta>=0.1.1 in /usr/local/lib/python3.10/dist-packages (from tensorflow==2.12.0) (0.2.0)\n",
            "Requirement already satisfied: grpcio<2.0,>=1.24.3 in /usr/local/lib/python3.10/dist-packages (from tensorflow==2.12.0) (1.62.1)\n",
            "Requirement already satisfied: h5py>=2.9.0 in /usr/local/lib/python3.10/dist-packages (from tensorflow==2.12.0) (3.9.0)\n",
            "Requirement already satisfied: jax>=0.3.15 in /usr/local/lib/python3.10/dist-packages (from tensorflow==2.12.0) (0.4.23)\n",
            "Collecting keras<2.13,>=2.12.0 (from tensorflow==2.12.0)\n",
            "  Downloading keras-2.12.0-py2.py3-none-any.whl (1.7 MB)\n",
            "\u001b[2K     \u001b[90m━━━━━━━━━━━━━━━━━━━━━━━━━━━━━━━━━━━━━━━━\u001b[0m \u001b[32m1.7/1.7 MB\u001b[0m \u001b[31m7.7 MB/s\u001b[0m eta \u001b[36m0:00:00\u001b[0m\n",
            "\u001b[?25hRequirement already satisfied: libclang>=13.0.0 in /usr/local/lib/python3.10/dist-packages (from tensorflow==2.12.0) (16.0.6)\n",
            "Collecting numpy<1.24,>=1.22 (from tensorflow==2.12.0)\n",
            "  Downloading numpy-1.23.5-cp310-cp310-manylinux_2_17_x86_64.manylinux2014_x86_64.whl (17.1 MB)\n",
            "\u001b[2K     \u001b[90m━━━━━━━━━━━━━━━━━━━━━━━━━━━━━━━━━━━━━━━━\u001b[0m \u001b[32m17.1/17.1 MB\u001b[0m \u001b[31m8.5 MB/s\u001b[0m eta \u001b[36m0:00:00\u001b[0m\n",
            "\u001b[?25hRequirement already satisfied: opt-einsum>=2.3.2 in /usr/local/lib/python3.10/dist-packages (from tensorflow==2.12.0) (3.3.0)\n",
            "Requirement already satisfied: packaging in /usr/local/lib/python3.10/dist-packages (from tensorflow==2.12.0) (24.0)\n",
            "Requirement already satisfied: protobuf!=4.21.0,!=4.21.1,!=4.21.2,!=4.21.3,!=4.21.4,!=4.21.5,<5.0.0dev,>=3.20.3 in /usr/local/lib/python3.10/dist-packages (from tensorflow==2.12.0) (3.20.3)\n",
            "Requirement already satisfied: setuptools in /usr/local/lib/python3.10/dist-packages (from tensorflow==2.12.0) (67.7.2)\n",
            "Requirement already satisfied: six>=1.12.0 in /usr/local/lib/python3.10/dist-packages (from tensorflow==2.12.0) (1.16.0)\n",
            "Collecting tensorboard<2.13,>=2.12 (from tensorflow==2.12.0)\n",
            "  Downloading tensorboard-2.12.3-py3-none-any.whl (5.6 MB)\n",
            "\u001b[2K     \u001b[90m━━━━━━━━━━━━━━━━━━━━━━━━━━━━━━━━━━━━━━━━\u001b[0m \u001b[32m5.6/5.6 MB\u001b[0m \u001b[31m8.8 MB/s\u001b[0m eta \u001b[36m0:00:00\u001b[0m\n",
            "\u001b[?25hCollecting tensorflow-estimator<2.13,>=2.12.0 (from tensorflow==2.12.0)\n",
            "  Downloading tensorflow_estimator-2.12.0-py2.py3-none-any.whl (440 kB)\n",
            "\u001b[2K     \u001b[90m━━━━━━━━━━━━━━━━━━━━━━━━━━━━━━━━━━━━━━━━\u001b[0m \u001b[32m440.7/440.7 kB\u001b[0m \u001b[31m7.1 MB/s\u001b[0m eta \u001b[36m0:00:00\u001b[0m\n",
            "\u001b[?25hRequirement already satisfied: termcolor>=1.1.0 in /usr/local/lib/python3.10/dist-packages (from tensorflow==2.12.0) (2.4.0)\n",
            "Requirement already satisfied: typing-extensions>=3.6.6 in /usr/local/lib/python3.10/dist-packages (from tensorflow==2.12.0) (4.10.0)\n",
            "Requirement already satisfied: wrapt<1.15,>=1.11.0 in /usr/local/lib/python3.10/dist-packages (from tensorflow==2.12.0) (1.14.1)\n",
            "Requirement already satisfied: tensorflow-io-gcs-filesystem>=0.23.1 in /usr/local/lib/python3.10/dist-packages (from tensorflow==2.12.0) (0.36.0)\n",
            "Requirement already satisfied: wheel<1.0,>=0.23.0 in /usr/local/lib/python3.10/dist-packages (from astunparse>=1.6.0->tensorflow==2.12.0) (0.43.0)\n",
            "Requirement already satisfied: ml-dtypes>=0.2.0 in /usr/local/lib/python3.10/dist-packages (from jax>=0.3.15->tensorflow==2.12.0) (0.2.0)\n",
            "Requirement already satisfied: scipy>=1.9 in /usr/local/lib/python3.10/dist-packages (from jax>=0.3.15->tensorflow==2.12.0) (1.11.4)\n",
            "Requirement already satisfied: google-auth<3,>=1.6.3 in /usr/local/lib/python3.10/dist-packages (from tensorboard<2.13,>=2.12->tensorflow==2.12.0) (2.27.0)\n",
            "Collecting google-auth-oauthlib<1.1,>=0.5 (from tensorboard<2.13,>=2.12->tensorflow==2.12.0)\n",
            "  Downloading google_auth_oauthlib-1.0.0-py2.py3-none-any.whl (18 kB)\n",
            "Requirement already satisfied: markdown>=2.6.8 in /usr/local/lib/python3.10/dist-packages (from tensorboard<2.13,>=2.12->tensorflow==2.12.0) (3.5.2)\n",
            "Requirement already satisfied: requests<3,>=2.21.0 in /usr/local/lib/python3.10/dist-packages (from tensorboard<2.13,>=2.12->tensorflow==2.12.0) (2.31.0)\n",
            "Requirement already satisfied: tensorboard-data-server<0.8.0,>=0.7.0 in /usr/local/lib/python3.10/dist-packages (from tensorboard<2.13,>=2.12->tensorflow==2.12.0) (0.7.2)\n",
            "Requirement already satisfied: werkzeug>=1.0.1 in /usr/local/lib/python3.10/dist-packages (from tensorboard<2.13,>=2.12->tensorflow==2.12.0) (3.0.1)\n",
            "Requirement already satisfied: cachetools<6.0,>=2.0.0 in /usr/local/lib/python3.10/dist-packages (from google-auth<3,>=1.6.3->tensorboard<2.13,>=2.12->tensorflow==2.12.0) (5.3.3)\n",
            "Requirement already satisfied: pyasn1-modules>=0.2.1 in /usr/local/lib/python3.10/dist-packages (from google-auth<3,>=1.6.3->tensorboard<2.13,>=2.12->tensorflow==2.12.0) (0.3.0)\n",
            "Requirement already satisfied: rsa<5,>=3.1.4 in /usr/local/lib/python3.10/dist-packages (from google-auth<3,>=1.6.3->tensorboard<2.13,>=2.12->tensorflow==2.12.0) (4.9)\n",
            "Requirement already satisfied: requests-oauthlib>=0.7.0 in /usr/local/lib/python3.10/dist-packages (from google-auth-oauthlib<1.1,>=0.5->tensorboard<2.13,>=2.12->tensorflow==2.12.0) (1.4.0)\n",
            "Requirement already satisfied: charset-normalizer<4,>=2 in /usr/local/lib/python3.10/dist-packages (from requests<3,>=2.21.0->tensorboard<2.13,>=2.12->tensorflow==2.12.0) (3.3.2)\n",
            "Requirement already satisfied: idna<4,>=2.5 in /usr/local/lib/python3.10/dist-packages (from requests<3,>=2.21.0->tensorboard<2.13,>=2.12->tensorflow==2.12.0) (3.6)\n",
            "Requirement already satisfied: urllib3<3,>=1.21.1 in /usr/local/lib/python3.10/dist-packages (from requests<3,>=2.21.0->tensorboard<2.13,>=2.12->tensorflow==2.12.0) (2.0.7)\n",
            "Requirement already satisfied: certifi>=2017.4.17 in /usr/local/lib/python3.10/dist-packages (from requests<3,>=2.21.0->tensorboard<2.13,>=2.12->tensorflow==2.12.0) (2024.2.2)\n",
            "Requirement already satisfied: MarkupSafe>=2.1.1 in /usr/local/lib/python3.10/dist-packages (from werkzeug>=1.0.1->tensorboard<2.13,>=2.12->tensorflow==2.12.0) (2.1.5)\n",
            "Requirement already satisfied: pyasn1<0.6.0,>=0.4.6 in /usr/local/lib/python3.10/dist-packages (from pyasn1-modules>=0.2.1->google-auth<3,>=1.6.3->tensorboard<2.13,>=2.12->tensorflow==2.12.0) (0.5.1)\n",
            "Requirement already satisfied: oauthlib>=3.0.0 in /usr/local/lib/python3.10/dist-packages (from requests-oauthlib>=0.7.0->google-auth-oauthlib<1.1,>=0.5->tensorboard<2.13,>=2.12->tensorflow==2.12.0) (3.2.2)\n",
            "Installing collected packages: tensorflow-estimator, numpy, keras, gast, google-auth-oauthlib, tensorboard, tensorflow\n",
            "  Attempting uninstall: tensorflow-estimator\n",
            "    Found existing installation: tensorflow-estimator 2.15.0\n",
            "    Uninstalling tensorflow-estimator-2.15.0:\n",
            "      Successfully uninstalled tensorflow-estimator-2.15.0\n",
            "  Attempting uninstall: numpy\n",
            "    Found existing installation: numpy 1.25.2\n",
            "    Uninstalling numpy-1.25.2:\n",
            "      Successfully uninstalled numpy-1.25.2\n",
            "  Attempting uninstall: keras\n",
            "    Found existing installation: keras 2.15.0\n",
            "    Uninstalling keras-2.15.0:\n",
            "      Successfully uninstalled keras-2.15.0\n",
            "  Attempting uninstall: gast\n",
            "    Found existing installation: gast 0.5.4\n",
            "    Uninstalling gast-0.5.4:\n",
            "      Successfully uninstalled gast-0.5.4\n",
            "  Attempting uninstall: google-auth-oauthlib\n",
            "    Found existing installation: google-auth-oauthlib 1.2.0\n",
            "    Uninstalling google-auth-oauthlib-1.2.0:\n",
            "      Successfully uninstalled google-auth-oauthlib-1.2.0\n",
            "  Attempting uninstall: tensorboard\n",
            "    Found existing installation: tensorboard 2.15.2\n",
            "    Uninstalling tensorboard-2.15.2:\n",
            "      Successfully uninstalled tensorboard-2.15.2\n",
            "  Attempting uninstall: tensorflow\n",
            "    Found existing installation: tensorflow 2.15.0\n",
            "    Uninstalling tensorflow-2.15.0:\n",
            "      Successfully uninstalled tensorflow-2.15.0\n",
            "\u001b[31mERROR: pip's dependency resolver does not currently take into account all the packages that are installed. This behaviour is the source of the following dependency conflicts.\n",
            "chex 0.1.85 requires numpy>=1.24.1, but you have numpy 1.23.5 which is incompatible.\n",
            "tf-keras 2.15.1 requires tensorflow<2.16,>=2.15, but you have tensorflow 2.12.0 which is incompatible.\u001b[0m\u001b[31m\n",
            "\u001b[0mSuccessfully installed gast-0.4.0 google-auth-oauthlib-1.0.0 keras-2.12.0 numpy-1.23.5 tensorboard-2.12.3 tensorflow-2.12.0 tensorflow-estimator-2.12.0\n"
          ]
        },
        {
          "output_type": "display_data",
          "data": {
            "application/vnd.colab-display-data+json": {
              "pip_warning": {
                "packages": [
                  "gast",
                  "keras",
                  "numpy",
                  "tensorboard",
                  "tensorflow"
                ]
              },
              "id": "0c3d848e86fb44c68bc57e9e2d2e97b0"
            }
          },
          "metadata": {}
        }
      ],
      "source": [
        "!pip install tensorflow==2.12.0"
      ]
    },
    {
      "cell_type": "code",
      "execution_count": null,
      "metadata": {
        "colab": {
          "base_uri": "https://localhost:8080/"
        },
        "id": "xz-q1Q88NhSi",
        "outputId": "87b90f5a-0ab8-453a-897e-fb76e8132938"
      },
      "outputs": [
        {
          "output_type": "stream",
          "name": "stderr",
          "text": [
            "WARNING:tensorflow:From /usr/local/lib/python3.10/dist-packages/tensorflow/python/compat/v2_compat.py:107: disable_resource_variables (from tensorflow.python.ops.variable_scope) is deprecated and will be removed in a future version.\n",
            "Instructions for updating:\n",
            "non-resource variables are not supported in the long term\n"
          ]
        }
      ],
      "source": [
        "import tflearn"
      ]
    },
    {
      "cell_type": "code",
      "execution_count": null,
      "metadata": {
        "colab": {
          "base_uri": "https://localhost:8080/"
        },
        "id": "MVzrKZJSN0eQ",
        "outputId": "ea9d8ff5-4f00-40e3-c849-97a91d3cef57"
      },
      "outputs": [
        {
          "output_type": "stream",
          "name": "stdout",
          "text": [
            "Mounted at /content/drive\n"
          ]
        }
      ],
      "source": [
        "from google.colab import drive\n",
        "drive.mount(\"/content/drive\")"
      ]
    },
    {
      "cell_type": "code",
      "execution_count": null,
      "metadata": {
        "id": "3CpFOWSFOHFd"
      },
      "outputs": [],
      "source": [
        "import keras\n",
        "import tensorflow as tf\n",
        "from keras.layers import Conv2D, MaxPooling2D, Flatten, Dense, Dropout, BatchNormalization"
      ]
    },
    {
      "cell_type": "code",
      "execution_count": null,
      "metadata": {
        "id": "a0pdX_BdPvIb"
      },
      "outputs": [],
      "source": [
        "import tflearn.datasets.oxflower17 as oxflower17\n",
        "import os\n",
        "import numpy as np\n",
        "from keras.preprocessing.image import ImageDataGenerator"
      ]
    },
    {
      "cell_type": "code",
      "execution_count": null,
      "metadata": {
        "id": "zB19HYiJSZTi"
      },
      "outputs": [],
      "source": [
        "from keras.models import Sequential"
      ]
    },
    {
      "cell_type": "code",
      "execution_count": null,
      "metadata": {
        "colab": {
          "base_uri": "https://localhost:8080/"
        },
        "id": "TJPGOsewQB69",
        "outputId": "5811d9e2-5409-4fcf-9b06-b3f58c173ea4"
      },
      "outputs": [
        {
          "output_type": "stream",
          "name": "stdout",
          "text": [
            "Downloading Oxford 17 category Flower Dataset, Please wait...\n"
          ]
        },
        {
          "output_type": "stream",
          "name": "stderr",
          "text": [
            "100.0% 60276736 / 60270631\n"
          ]
        },
        {
          "output_type": "stream",
          "name": "stdout",
          "text": [
            "Succesfully downloaded 17flowers.tgz 60270631 bytes.\n",
            "File Extracted\n",
            "Starting to parse images...\n",
            "Parsing Done!\n"
          ]
        }
      ],
      "source": [
        "X,Y = oxflower17.load_data()"
      ]
    },
    {
      "cell_type": "code",
      "execution_count": null,
      "metadata": {
        "colab": {
          "base_uri": "https://localhost:8080/"
        },
        "id": "jR8z8B5YQmgK",
        "outputId": "4cab7a79-7a17-4074-803b-6d997f396907"
      },
      "outputs": [
        {
          "output_type": "execute_result",
          "data": {
            "text/plain": [
              "array([ 5,  1,  3, ..., 15, 15, 10])"
            ]
          },
          "metadata": {},
          "execution_count": 7
        }
      ],
      "source": [
        "Y"
      ]
    },
    {
      "cell_type": "code",
      "execution_count": null,
      "metadata": {
        "id": "iEmO3qzBQX4N"
      },
      "outputs": [],
      "source": [
        "from keras.utils import to_categorical"
      ]
    },
    {
      "cell_type": "code",
      "execution_count": null,
      "metadata": {
        "colab": {
          "base_uri": "https://localhost:8080/"
        },
        "id": "aBLNP9aaQpB4",
        "outputId": "606be9af-129b-4b0f-e762-8c9b3759c8c5"
      },
      "outputs": [
        {
          "output_type": "execute_result",
          "data": {
            "text/plain": [
              "17"
            ]
          },
          "metadata": {},
          "execution_count": 9
        }
      ],
      "source": [
        "len(np.unique(Y))"
      ]
    },
    {
      "cell_type": "code",
      "execution_count": null,
      "metadata": {
        "id": "WKMABXGiQ5-W"
      },
      "outputs": [],
      "source": [
        "X_train = X.astype(\"float32\") / 255.0"
      ]
    },
    {
      "cell_type": "code",
      "execution_count": null,
      "metadata": {
        "colab": {
          "base_uri": "https://localhost:8080/"
        },
        "id": "Ub7Uua4rQOy8",
        "outputId": "f6ad6158-734d-411b-b61d-1e92773271db"
      },
      "outputs": [
        {
          "output_type": "stream",
          "name": "stdout",
          "text": [
            "[[0. 0. 0. ... 0. 0. 0.]\n",
            " [0. 1. 0. ... 0. 0. 0.]\n",
            " [0. 0. 0. ... 0. 0. 0.]\n",
            " ...\n",
            " [0. 0. 0. ... 0. 1. 0.]\n",
            " [0. 0. 0. ... 0. 1. 0.]\n",
            " [0. 0. 0. ... 0. 0. 0.]]\n"
          ]
        }
      ],
      "source": [
        "\n",
        "y_train = to_categorical(Y,num_classes=17)\n",
        "print(y_train)"
      ]
    },
    {
      "cell_type": "code",
      "execution_count": null,
      "metadata": {
        "colab": {
          "base_uri": "https://localhost:8080/"
        },
        "id": "kg3_nC-kQyFK",
        "outputId": "f2774b3d-320c-4238-ed35-0f82f92071da"
      },
      "outputs": [
        {
          "output_type": "execute_result",
          "data": {
            "text/plain": [
              "array([[[[2.1991543e-03, 2.3221839e-03, 1.6301422e-03],\n",
              "         [1.8300654e-03, 1.9530950e-03, 1.2610535e-03],\n",
              "         [1.3379470e-03, 1.4455979e-03, 7.6893502e-04],\n",
              "         ...,\n",
              "         [1.0918878e-03, 1.3533257e-03, 8.1507111e-04],\n",
              "         [9.9961564e-04, 1.4302192e-03, 8.3044986e-04],\n",
              "         [4.3060363e-04, 9.2272204e-04, 3.2295272e-04]],\n",
              "\n",
              "        [[2.1530183e-03, 2.3221839e-03, 1.5532487e-03],\n",
              "         [1.7685506e-03, 1.9530950e-03, 1.1841600e-03],\n",
              "         [1.3687044e-03, 1.5378700e-03, 7.9969241e-04],\n",
              "         ...,\n",
              "         [1.3379470e-03, 1.6301422e-03, 9.3810074e-04],\n",
              "         [1.0918878e-03, 1.5071126e-03, 7.8431371e-04],\n",
              "         [6.4590544e-04, 1.1072665e-03, 3.6908881e-04]],\n",
              "\n",
              "        [[1.3071896e-03, 1.5993848e-03, 6.9204153e-04],\n",
              "         [1.3379470e-03, 1.6147635e-03, 7.3817762e-04],\n",
              "         [1.1072665e-03, 1.3687044e-03, 5.2287587e-04],\n",
              "         ...,\n",
              "         [1.0303730e-03, 1.3225683e-03, 4.9211847e-04],\n",
              "         [9.0734335e-04, 1.2764322e-03, 3.9984621e-04],\n",
              "         [4.9211847e-04, 8.9196465e-04, 4.6136101e-05]],\n",
              "\n",
              "        ...,\n",
              "\n",
              "        [[4.6136102e-04, 6.1514805e-04, 2.6143793e-04],\n",
              "         [1.0765091e-04, 2.7681663e-04, 3.0757405e-05],\n",
              "         [1.2149174e-03, 1.4455979e-03, 1.0765091e-03],\n",
              "         ...,\n",
              "         [5.3825456e-04, 1.3379470e-03, 1.5378701e-04],\n",
              "         [5.0749717e-04, 1.3379470e-03, 1.5378701e-04],\n",
              "         [3.9984621e-04, 1.2149174e-03, 4.6136101e-05]],\n",
              "\n",
              "        [[1.0765091e-04, 2.3068051e-04, 0.0000000e+00],\n",
              "         [3.5371011e-04, 5.3825456e-04, 2.7681663e-04],\n",
              "         [1.8915802e-03, 2.1222609e-03, 1.7531719e-03],\n",
              "         ...,\n",
              "         [5.3825456e-04, 1.3071896e-03, 1.3840832e-04],\n",
              "         [5.9976935e-04, 1.3994618e-03, 1.9992310e-04],\n",
              "         [5.2287587e-04, 1.3379470e-03, 1.3840832e-04]],\n",
              "\n",
              "        [[4.1522493e-04, 5.9976935e-04, 3.3833142e-04],\n",
              "         [1.7993080e-03, 1.9992313e-03, 1.6455210e-03],\n",
              "         [1.3687044e-03, 1.6301422e-03, 1.2456748e-03],\n",
              "         ...,\n",
              "         [7.9969241e-04, 1.5378700e-03, 3.2295272e-04],\n",
              "         [7.3817762e-04, 1.5224913e-03, 3.3833142e-04],\n",
              "         [5.3825456e-04, 1.3533257e-03, 1.5378701e-04]]],\n",
              "\n",
              "\n",
              "       [[[3.2295272e-04, 2.6143793e-04, 2.7681663e-04],\n",
              "         [3.9984621e-04, 3.3833142e-04, 3.6908881e-04],\n",
              "         [3.5371011e-04, 3.0757402e-04, 3.3833142e-04],\n",
              "         ...,\n",
              "         [1.8454441e-04, 1.5378701e-04, 1.6916571e-04],\n",
              "         [1.8454441e-04, 1.5378701e-04, 1.6916571e-04],\n",
              "         [1.8454441e-04, 1.5378701e-04, 1.6916571e-04]],\n",
              "\n",
              "        [[3.5371011e-04, 3.0757402e-04, 3.3833142e-04],\n",
              "         [4.3060363e-04, 3.8446751e-04, 4.4598232e-04],\n",
              "         [3.6908881e-04, 3.5371011e-04, 4.3060363e-04],\n",
              "         ...,\n",
              "         [1.8454441e-04, 1.5378701e-04, 1.6916571e-04],\n",
              "         [1.8454441e-04, 1.5378701e-04, 1.6916571e-04],\n",
              "         [1.8454441e-04, 1.5378701e-04, 1.6916571e-04]],\n",
              "\n",
              "        [[3.8446751e-04, 3.6908881e-04, 4.4598232e-04],\n",
              "         [4.4598232e-04, 4.4598232e-04, 5.2287587e-04],\n",
              "         [3.9984621e-04, 4.1522493e-04, 5.0749717e-04],\n",
              "         ...,\n",
              "         [1.8454441e-04, 1.5378701e-04, 1.6916571e-04],\n",
              "         [1.8454441e-04, 1.5378701e-04, 1.6916571e-04],\n",
              "         [1.8454441e-04, 1.5378701e-04, 1.6916571e-04]],\n",
              "\n",
              "        ...,\n",
              "\n",
              "        [[5.5363326e-04, 5.5363326e-04, 4.9211847e-04],\n",
              "         [6.1514805e-04, 6.3052675e-04, 5.6901196e-04],\n",
              "         [5.5363326e-04, 5.9976935e-04, 5.5363326e-04],\n",
              "         ...,\n",
              "         [5.3825456e-04, 5.3825456e-04, 5.3825456e-04],\n",
              "         [5.9976935e-04, 5.9976935e-04, 5.9976935e-04],\n",
              "         [5.6901196e-04, 5.6901196e-04, 5.6901196e-04]],\n",
              "\n",
              "        [[5.3825456e-04, 5.2287587e-04, 4.1522493e-04],\n",
              "         [7.2279893e-04, 7.2279893e-04, 6.4590544e-04],\n",
              "         [6.6128414e-04, 6.7666284e-04, 6.1514805e-04],\n",
              "         ...,\n",
              "         [5.9976935e-04, 5.9976935e-04, 5.9976935e-04],\n",
              "         [6.3052675e-04, 6.3052675e-04, 6.3052675e-04],\n",
              "         [5.2287587e-04, 5.2287587e-04, 5.2287587e-04]],\n",
              "\n",
              "        [[5.6901196e-04, 5.3825456e-04, 3.8446751e-04],\n",
              "         [7.2279893e-04, 7.2279893e-04, 5.9976935e-04],\n",
              "         [6.4590544e-04, 6.6128414e-04, 5.6901196e-04],\n",
              "         ...,\n",
              "         [5.2287587e-04, 5.2287587e-04, 5.2287587e-04],\n",
              "         [5.0749717e-04, 5.0749717e-04, 5.0749717e-04],\n",
              "         [3.6908881e-04, 3.6908881e-04, 3.6908881e-04]]],\n",
              "\n",
              "\n",
              "       [[[1.3994618e-03, 9.9961564e-04, 4.9211847e-04],\n",
              "         [1.4609765e-03, 1.0149943e-03, 5.2287587e-04],\n",
              "         [1.4917339e-03, 1.0303730e-03, 5.5363326e-04],\n",
              "         ...,\n",
              "         [2.3221839e-03, 1.9838526e-03, 1.7377932e-03],\n",
              "         [2.2606691e-03, 1.9684739e-03, 1.7531719e-03],\n",
              "         [2.2606691e-03, 1.9684739e-03, 1.7531719e-03]],\n",
              "\n",
              "        [[1.4763552e-03, 1.0765091e-03, 5.6901196e-04],\n",
              "         [1.5532487e-03, 1.1072665e-03, 6.1514805e-04],\n",
              "         [1.5071126e-03, 1.0457517e-03, 5.6901196e-04],\n",
              "         ...,\n",
              "         [2.6758939e-03, 2.3375626e-03, 2.0915035e-03],\n",
              "         [2.6451366e-03, 2.3529413e-03, 2.1376396e-03],\n",
              "         [2.6451366e-03, 2.3529413e-03, 2.1376396e-03]],\n",
              "\n",
              "        [[1.5071126e-03, 1.1072665e-03, 5.9976935e-04],\n",
              "         [1.5840061e-03, 1.1380239e-03, 6.4590544e-04],\n",
              "         [1.6147635e-03, 1.1380239e-03, 6.6128414e-04],\n",
              "         ...,\n",
              "         [3.0142253e-03, 2.6758939e-03, 2.4298348e-03],\n",
              "         [2.9680892e-03, 2.6605153e-03, 2.4452135e-03],\n",
              "         [2.9527105e-03, 2.6605153e-03, 2.4452135e-03]],\n",
              "\n",
              "        ...,\n",
              "\n",
              "        [[2.7681663e-04, 1.6916571e-04, 9.2272203e-05],\n",
              "         [2.7681663e-04, 2.4605924e-04, 1.5378701e-04],\n",
              "         [2.6143793e-04, 3.2295272e-04, 1.8454441e-04],\n",
              "         ...,\n",
              "         [1.9069589e-03, 1.2149174e-03, 7.2279893e-04],\n",
              "         [1.7839293e-03, 1.0918878e-03, 6.3052675e-04],\n",
              "         [1.7224145e-03, 1.0303730e-03, 5.6901196e-04]],\n",
              "\n",
              "        [[2.6143793e-04, 1.8454441e-04, 1.2302962e-04],\n",
              "         [2.6143793e-04, 2.4605924e-04, 1.6916571e-04],\n",
              "         [3.0757402e-04, 3.5371011e-04, 2.6143793e-04],\n",
              "         ...,\n",
              "         [1.6608997e-03, 1.0303730e-03, 5.8439065e-04],\n",
              "         [1.5840061e-03, 9.3810074e-04, 5.3825456e-04],\n",
              "         [1.5224913e-03, 8.6120726e-04, 4.7673972e-04]],\n",
              "\n",
              "        [[1.9992310e-04, 1.6916571e-04, 9.2272203e-05],\n",
              "         [1.9992310e-04, 1.8454441e-04, 1.2302962e-04],\n",
              "         [2.7681663e-04, 2.9219533e-04, 2.1530181e-04],\n",
              "         ...,\n",
              "         [1.4917339e-03, 8.9196465e-04, 4.6136102e-04],\n",
              "         [1.4763552e-03, 8.3044986e-04, 4.6136102e-04],\n",
              "         [1.4148405e-03, 7.6893502e-04, 3.8446751e-04]]],\n",
              "\n",
              "\n",
              "       ...,\n",
              "\n",
              "\n",
              "       [[[9.5347944e-04, 6.1514805e-04, 6.4590544e-04],\n",
              "         [9.5347944e-04, 6.1514805e-04, 6.4590544e-04],\n",
              "         [9.6885813e-04, 6.3052675e-04, 6.6128414e-04],\n",
              "         ...,\n",
              "         [3.3833142e-04, 1.9992310e-04, 6.1514809e-05],\n",
              "         [3.3833142e-04, 1.6916571e-04, 3.0757405e-05],\n",
              "         [3.2295272e-04, 1.8454441e-04, 1.5378702e-05]],\n",
              "\n",
              "        [[9.5347944e-04, 6.1514805e-04, 6.4590544e-04],\n",
              "         [9.5347944e-04, 6.1514805e-04, 6.4590544e-04],\n",
              "         [9.6885813e-04, 6.3052675e-04, 6.6128414e-04],\n",
              "         ...,\n",
              "         [4.3060363e-04, 2.6143793e-04, 1.3840832e-04],\n",
              "         [4.4598232e-04, 2.6143793e-04, 1.2302962e-04],\n",
              "         [4.4598232e-04, 2.6143793e-04, 1.0765091e-04]],\n",
              "\n",
              "        [[9.5347944e-04, 6.1514805e-04, 6.4590544e-04],\n",
              "         [9.5347944e-04, 6.1514805e-04, 6.4590544e-04],\n",
              "         [9.6885813e-04, 6.3052675e-04, 6.6128414e-04],\n",
              "         ...,\n",
              "         [5.9976935e-04, 3.5371011e-04, 2.3068051e-04],\n",
              "         [5.9976935e-04, 3.6908881e-04, 2.3068051e-04],\n",
              "         [5.8439065e-04, 3.6908881e-04, 2.3068051e-04]],\n",
              "\n",
              "        ...,\n",
              "\n",
              "        [[1.2456748e-03, 9.5347944e-04, 6.9204153e-04],\n",
              "         [1.3379470e-03, 1.0457517e-03, 7.8431371e-04],\n",
              "         [1.3840831e-03, 1.0918878e-03, 8.3044986e-04],\n",
              "         ...,\n",
              "         [2.6143793e-04, 9.2272203e-05, 1.5378701e-04],\n",
              "         [2.6143793e-04, 9.2272203e-05, 1.5378701e-04],\n",
              "         [2.6143793e-04, 9.2272203e-05, 1.5378701e-04]],\n",
              "\n",
              "        [[1.4455979e-03, 1.1534026e-03, 8.9196465e-04],\n",
              "         [1.3840831e-03, 1.0918878e-03, 8.3044986e-04],\n",
              "         [1.3225683e-03, 1.0303730e-03, 7.6893502e-04],\n",
              "         ...,\n",
              "         [2.7681663e-04, 1.0765091e-04, 1.6916571e-04],\n",
              "         [2.6143793e-04, 9.2272203e-05, 1.5378701e-04],\n",
              "         [2.6143793e-04, 9.2272203e-05, 1.5378701e-04]],\n",
              "\n",
              "        [[1.7224145e-03, 1.4302192e-03, 1.1687813e-03],\n",
              "         [1.5993848e-03, 1.3071896e-03, 1.0457517e-03],\n",
              "         [1.2456748e-03, 9.5347944e-04, 6.9204153e-04],\n",
              "         ...,\n",
              "         [3.0757402e-04, 1.3840832e-04, 1.9992310e-04],\n",
              "         [2.9219533e-04, 1.2302962e-04, 1.8454441e-04],\n",
              "         [2.9219533e-04, 1.2302962e-04, 1.8454441e-04]]],\n",
              "\n",
              "\n",
              "       [[[2.1068822e-03, 2.9834679e-03, 1.2302961e-03],\n",
              "         [2.2145330e-03, 3.0911188e-03, 1.3687044e-03],\n",
              "         [2.3068052e-03, 3.1680122e-03, 1.4609765e-03],\n",
              "         ...,\n",
              "         [2.0299887e-03, 2.8911957e-03, 1.4917339e-03],\n",
              "         [2.1222609e-03, 2.9834679e-03, 1.5840061e-03],\n",
              "         [2.2145330e-03, 3.0757401e-03, 1.6762784e-03]],\n",
              "\n",
              "        [[2.1068822e-03, 2.9834679e-03, 1.2302961e-03],\n",
              "         [2.2299117e-03, 3.0911188e-03, 1.3687044e-03],\n",
              "         [2.3068052e-03, 3.1680122e-03, 1.4609765e-03],\n",
              "         ...,\n",
              "         [2.0915035e-03, 2.9527105e-03, 1.5532487e-03],\n",
              "         [2.1530183e-03, 3.0142253e-03, 1.6147635e-03],\n",
              "         [2.2145330e-03, 3.0757401e-03, 1.6762784e-03]],\n",
              "\n",
              "        [[2.1068822e-03, 2.9834679e-03, 1.2302961e-03],\n",
              "         [2.2299117e-03, 3.1064975e-03, 1.3687044e-03],\n",
              "         [2.2914265e-03, 3.1526336e-03, 1.4455979e-03],\n",
              "         ...,\n",
              "         [2.0915035e-03, 2.9527105e-03, 1.5686274e-03],\n",
              "         [2.1837757e-03, 3.0449827e-03, 1.6455210e-03],\n",
              "         [2.2760478e-03, 3.1372549e-03, 1.7377932e-03]],\n",
              "\n",
              "        ...,\n",
              "\n",
              "        [[1.7993080e-03, 2.8911957e-03, 1.2918109e-03],\n",
              "         [1.8300654e-03, 2.9219531e-03, 1.3225683e-03],\n",
              "         [1.8300654e-03, 2.9527105e-03, 1.3379470e-03],\n",
              "         ...,\n",
              "         [2.0607461e-03, 2.6605153e-03, 1.6916571e-04],\n",
              "         [2.1530183e-03, 2.7220300e-03, 3.3833142e-04],\n",
              "         [2.2145330e-03, 2.7681661e-03, 4.9211847e-04]],\n",
              "\n",
              "        [[1.8454441e-03, 2.9373318e-03, 1.3687044e-03],\n",
              "         [1.8608228e-03, 2.9680892e-03, 1.3994618e-03],\n",
              "         [1.8762015e-03, 2.9834679e-03, 1.3994618e-03],\n",
              "         ...,\n",
              "         [2.0761248e-03, 2.6143792e-03, 1.9992310e-04],\n",
              "         [2.1991543e-03, 2.6912726e-03, 5.2287587e-04],\n",
              "         [2.2452904e-03, 2.7220300e-03, 7.2279893e-04]],\n",
              "\n",
              "        [[1.8608228e-03, 2.9527105e-03, 1.3840831e-03],\n",
              "         [1.8762015e-03, 2.9834679e-03, 1.4148405e-03],\n",
              "         [1.8915802e-03, 2.9834679e-03, 1.4148405e-03],\n",
              "         ...,\n",
              "         [2.1068822e-03, 2.6297579e-03, 2.3068051e-04],\n",
              "         [2.2145330e-03, 2.6912726e-03, 5.6901196e-04],\n",
              "         [2.2299117e-03, 2.6605153e-03, 7.6893502e-04]]],\n",
              "\n",
              "\n",
              "       [[[4.6136101e-05, 4.6136101e-05, 4.6136101e-05],\n",
              "         [4.6136101e-05, 7.6893506e-05, 3.0757405e-05],\n",
              "         [7.6893506e-05, 1.5378701e-04, 6.1514809e-05],\n",
              "         ...,\n",
              "         [0.0000000e+00, 0.0000000e+00, 7.6893506e-05],\n",
              "         [0.0000000e+00, 0.0000000e+00, 7.6893506e-05],\n",
              "         [0.0000000e+00, 0.0000000e+00, 7.6893506e-05]],\n",
              "\n",
              "        [[1.5378702e-05, 1.5378702e-05, 1.5378702e-05],\n",
              "         [1.5378702e-05, 6.1514809e-05, 1.5378702e-05],\n",
              "         [6.1514809e-05, 1.3840832e-04, 4.6136101e-05],\n",
              "         ...,\n",
              "         [0.0000000e+00, 0.0000000e+00, 7.6893506e-05],\n",
              "         [1.5378702e-05, 1.5378702e-05, 7.6893506e-05],\n",
              "         [1.5378702e-05, 1.5378702e-05, 7.6893506e-05]],\n",
              "\n",
              "        [[3.0757405e-05, 3.0757405e-05, 3.0757405e-05],\n",
              "         [0.0000000e+00, 6.1514809e-05, 0.0000000e+00],\n",
              "         [3.0757405e-05, 1.2302962e-04, 1.5378702e-05],\n",
              "         ...,\n",
              "         [1.5378702e-05, 0.0000000e+00, 7.6893506e-05],\n",
              "         [1.5378702e-05, 3.0757405e-05, 7.6893506e-05],\n",
              "         [3.0757405e-05, 4.6136101e-05, 7.6893506e-05]],\n",
              "\n",
              "        ...,\n",
              "\n",
              "        [[1.7839293e-03, 2.7066513e-03, 1.2610535e-03],\n",
              "         [2.0761248e-03, 3.0449827e-03, 1.5686274e-03],\n",
              "         [2.2760478e-03, 3.3064208e-03, 1.7993080e-03],\n",
              "         ...,\n",
              "         [4.6136101e-05, 2.3068051e-04, 4.6136101e-05],\n",
              "         [3.0757405e-05, 2.4605924e-04, 4.6136101e-05],\n",
              "         [1.5378702e-05, 2.3068051e-04, 1.5378702e-05]],\n",
              "\n",
              "        [[4.6136102e-04, 1.3071896e-03, 1.3840832e-04],\n",
              "         [4.7673972e-04, 1.3840831e-03, 1.9992310e-04],\n",
              "         [6.6128414e-04, 1.6301422e-03, 4.1522493e-04],\n",
              "         ...,\n",
              "         [1.5378702e-05, 2.3068051e-04, 4.6136101e-05],\n",
              "         [0.0000000e+00, 2.1530181e-04, 4.6136101e-05],\n",
              "         [0.0000000e+00, 1.8454441e-04, 3.0757405e-05]],\n",
              "\n",
              "        [[1.6916571e-04, 8.4582856e-04, 4.6136101e-05],\n",
              "         [1.5378702e-05, 7.6893502e-04, 0.0000000e+00],\n",
              "         [0.0000000e+00, 8.1507111e-04, 0.0000000e+00],\n",
              "         ...,\n",
              "         [0.0000000e+00, 2.3068051e-04, 6.1514809e-05],\n",
              "         [3.0757405e-05, 2.4605924e-04, 1.0765091e-04],\n",
              "         [9.2272203e-05, 2.7681663e-04, 1.5378701e-04]]]], dtype=float32)"
            ]
          },
          "metadata": {},
          "execution_count": 12
        }
      ],
      "source": [
        "X_train"
      ]
    },
    {
      "cell_type": "code",
      "execution_count": null,
      "metadata": {
        "colab": {
          "base_uri": "https://localhost:8080/"
        },
        "id": "CjeDUqewQ4Cs",
        "outputId": "e8dd5ef5-7472-4140-b183-e5eae821e34d"
      },
      "outputs": [
        {
          "output_type": "stream",
          "name": "stdout",
          "text": [
            "(1360, 224, 224, 3)\n"
          ]
        }
      ],
      "source": [
        "print(X_train.shape)"
      ]
    },
    {
      "cell_type": "code",
      "execution_count": null,
      "metadata": {
        "colab": {
          "base_uri": "https://localhost:8080/"
        },
        "id": "Hzo_MDH_RGYR",
        "outputId": "a10e9ec8-ac69-4f04-92fc-72afcc13d837"
      },
      "outputs": [
        {
          "output_type": "stream",
          "name": "stdout",
          "text": [
            "[[0. 0. 0. ... 0. 0. 0.]\n",
            " [0. 1. 0. ... 0. 0. 0.]\n",
            " [0. 0. 0. ... 0. 0. 0.]\n",
            " ...\n",
            " [0. 0. 0. ... 0. 1. 0.]\n",
            " [0. 0. 0. ... 0. 1. 0.]\n",
            " [0. 0. 0. ... 0. 0. 0.]]\n"
          ]
        }
      ],
      "source": [
        "print(y_train)"
      ]
    },
    {
      "cell_type": "code",
      "execution_count": null,
      "metadata": {
        "colab": {
          "base_uri": "https://localhost:8080/"
        },
        "id": "aU5esGUmRHqU",
        "outputId": "d92d8f79-e120-4dcf-857f-51ec2e2f51ee"
      },
      "outputs": [
        {
          "output_type": "stream",
          "name": "stdout",
          "text": [
            "Model: \"sequential\"\n",
            "_________________________________________________________________\n",
            " Layer (type)                Output Shape              Param #   \n",
            "=================================================================\n",
            " conv2d (Conv2D)             (None, 224, 224, 64)      1792      \n",
            "                                                                 \n",
            " conv2d_1 (Conv2D)           (None, 224, 224, 64)      36928     \n",
            "                                                                 \n",
            " max_pooling2d (MaxPooling2D  (None, 112, 112, 64)     0         \n",
            " )                                                               \n",
            "                                                                 \n",
            " conv2d_2 (Conv2D)           (None, 112, 112, 128)     73856     \n",
            "                                                                 \n",
            " conv2d_3 (Conv2D)           (None, 112, 112, 128)     147584    \n",
            "                                                                 \n",
            " max_pooling2d_1 (MaxPooling  (None, 56, 56, 128)      0         \n",
            " 2D)                                                             \n",
            "                                                                 \n",
            " conv2d_4 (Conv2D)           (None, 56, 56, 256)       295168    \n",
            "                                                                 \n",
            " conv2d_5 (Conv2D)           (None, 56, 56, 256)       590080    \n",
            "                                                                 \n",
            " conv2d_6 (Conv2D)           (None, 56, 56, 256)       590080    \n",
            "                                                                 \n",
            " max_pooling2d_2 (MaxPooling  (None, 28, 28, 256)      0         \n",
            " 2D)                                                             \n",
            "                                                                 \n",
            " conv2d_7 (Conv2D)           (None, 28, 28, 512)       1180160   \n",
            "                                                                 \n",
            " conv2d_8 (Conv2D)           (None, 28, 28, 512)       2359808   \n",
            "                                                                 \n",
            " conv2d_9 (Conv2D)           (None, 28, 28, 512)       2359808   \n",
            "                                                                 \n",
            " max_pooling2d_3 (MaxPooling  (None, 14, 14, 512)      0         \n",
            " 2D)                                                             \n",
            "                                                                 \n",
            " conv2d_10 (Conv2D)          (None, 14, 14, 512)       2359808   \n",
            "                                                                 \n",
            " conv2d_11 (Conv2D)          (None, 14, 14, 512)       2359808   \n",
            "                                                                 \n",
            " conv2d_12 (Conv2D)          (None, 14, 14, 512)       2359808   \n",
            "                                                                 \n",
            " max_pooling2d_4 (MaxPooling  (None, 7, 7, 512)        0         \n",
            " 2D)                                                             \n",
            "                                                                 \n",
            " flatten (Flatten)           (None, 25088)             0         \n",
            "                                                                 \n",
            " dense (Dense)               (None, 4096)              102764544 \n",
            "                                                                 \n",
            " dense_1 (Dense)             (None, 4096)              16781312  \n",
            "                                                                 \n",
            " dense_2 (Dense)             (None, 17)                69649     \n",
            "                                                                 \n",
            "=================================================================\n",
            "Total params: 134,330,193\n",
            "Trainable params: 134,330,193\n",
            "Non-trainable params: 0\n",
            "_________________________________________________________________\n"
          ]
        }
      ],
      "source": [
        "model = Sequential()\n",
        "model.add(Conv2D(input_shape =(224,224,3),filters = 64, kernel_size= (3,3),padding = \"same\",activation=\"relu\"))\n",
        "model.add(Conv2D(filters=64, kernel_size = (3,3), padding=\"same\",activation=\"relu\"))\n",
        "model.add(MaxPooling2D(pool_size=(2,2),strides=(2,2)))\n",
        "\n",
        "model.add(Conv2D(filters=128, kernel_size=(3,3),padding=\"same\",activation=\"relu\"))\n",
        "model.add(Conv2D(filters=128, kernel_size=(3,3),padding=\"same\",activation=\"relu\"))\n",
        "model.add(MaxPooling2D(pool_size=(2,2),strides=(2,2)))\n",
        "\n",
        "model.add(Conv2D(filters=256, kernel_size=(3,3),padding=\"same\",activation=\"relu\"))\n",
        "model.add(Conv2D(filters=256, kernel_size=(3,3),padding=\"same\",activation=\"relu\"))\n",
        "model.add(Conv2D(filters=256, kernel_size=(3,3),padding=\"same\",activation=\"relu\"))\n",
        "model.add(MaxPooling2D(pool_size=(2,2),strides=(2,2)))\n",
        "\n",
        "\n",
        "model.add(Conv2D(filters=512, kernel_size=(3,3),padding=\"same\",activation=\"relu\"))\n",
        "model.add(Conv2D(filters=512, kernel_size=(3,3),padding=\"same\",activation=\"relu\"))\n",
        "model.add(Conv2D(filters=512, kernel_size=(3,3),padding=\"same\",activation=\"relu\"))\n",
        "model.add(MaxPooling2D(pool_size=(2,2),strides=(2,2)))\n",
        "\n",
        "\n",
        "model.add(Conv2D(filters=512, kernel_size=(3,3),padding=\"same\",activation=\"relu\"))\n",
        "model.add(Conv2D(filters=512, kernel_size=(3,3),padding=\"same\",activation=\"relu\"))\n",
        "model.add(Conv2D(filters=512, kernel_size=(3,3),padding=\"same\",activation=\"relu\"))\n",
        "model.add(MaxPooling2D(pool_size=(2,2),strides=(2,2)))\n",
        "\n",
        "model.add(Flatten())\n",
        "model.add(Dense(units=4096, activation=\"relu\"))\n",
        "model.add(Dense(units=4096, activation=\"relu\"))\n",
        "model.add(Dense(17,activation=\"softmax\"))\n",
        "model.summary()"
      ]
    },
    {
      "cell_type": "code",
      "execution_count": null,
      "metadata": {
        "id": "0Ot3qCXaT1EH"
      },
      "outputs": [],
      "source": [
        "model.compile(optimizer='adam', loss=\"categorical_crossentropy\", metrics=[\"accuracy\"])"
      ]
    },
    {
      "cell_type": "code",
      "execution_count": null,
      "metadata": {
        "colab": {
          "base_uri": "https://localhost:8080/",
          "height": 141
        },
        "id": "pR-Xwp7tbCAN",
        "outputId": "65c6057b-c06b-4fe4-c32a-ba8aa7af8a18"
      },
      "outputs": [
        {
          "output_type": "error",
          "ename": "NameError",
          "evalue": "name 'model' is not defined",
          "traceback": [
            "\u001b[0;31m---------------------------------------------------------------------------\u001b[0m",
            "\u001b[0;31mNameError\u001b[0m                                 Traceback (most recent call last)",
            "\u001b[0;32m<ipython-input-1-1533831d2835>\u001b[0m in \u001b[0;36m<cell line: 1>\u001b[0;34m()\u001b[0m\n\u001b[0;32m----> 1\u001b[0;31m \u001b[0mmodel\u001b[0m\u001b[0;34m.\u001b[0m\u001b[0mfit\u001b[0m\u001b[0;34m(\u001b[0m\u001b[0mX_train\u001b[0m\u001b[0;34m,\u001b[0m\u001b[0my_train\u001b[0m\u001b[0;34m,\u001b[0m\u001b[0mvalidation_split\u001b[0m\u001b[0;34m=\u001b[0m\u001b[0;36m0.2\u001b[0m\u001b[0;34m,\u001b[0m\u001b[0mverbose\u001b[0m\u001b[0;34m=\u001b[0m\u001b[0;36m1\u001b[0m\u001b[0;34m,\u001b[0m\u001b[0mbatch_size\u001b[0m\u001b[0;34m=\u001b[0m\u001b[0;36m64\u001b[0m\u001b[0;34m,\u001b[0m\u001b[0mshuffle\u001b[0m\u001b[0;34m=\u001b[0m\u001b[0;32mTrue\u001b[0m\u001b[0;34m,\u001b[0m\u001b[0mepochs\u001b[0m\u001b[0;34m=\u001b[0m\u001b[0;36m1\u001b[0m\u001b[0;34m)\u001b[0m\u001b[0;34m\u001b[0m\u001b[0;34m\u001b[0m\u001b[0m\n\u001b[0m",
            "\u001b[0;31mNameError\u001b[0m: name 'model' is not defined"
          ]
        }
      ],
      "source": [
        "model.fit(X_train,y_train,validation_split=0.2,verbose=1,batch_size=64,shuffle=True,epochs=1)"
      ]
    },
    {
      "cell_type": "code",
      "execution_count": null,
      "metadata": {
        "id": "BE3biEevbdaA"
      },
      "outputs": [],
      "source": []
    },
    {
      "cell_type": "code",
      "execution_count": null,
      "metadata": {
        "id": "01-HVdBIbgrl"
      },
      "outputs": [],
      "source": []
    },
    {
      "cell_type": "code",
      "source": [],
      "metadata": {
        "id": "OEY5yEWIjLgI"
      },
      "execution_count": null,
      "outputs": []
    },
    {
      "cell_type": "code",
      "source": [
        "pip install tensorflow==2.12.0\n"
      ],
      "metadata": {
        "colab": {
          "base_uri": "https://localhost:8080/",
          "height": 1000
        },
        "id": "pWlopiqXjLjO",
        "outputId": "151cfcd7-dd3e-4970-f390-8ca80f292d7c"
      },
      "execution_count": null,
      "outputs": [
        {
          "output_type": "stream",
          "name": "stdout",
          "text": [
            "Collecting tensorflow==2.12.0\n",
            "  Downloading tensorflow-2.12.0-cp310-cp310-manylinux_2_17_x86_64.manylinux2014_x86_64.whl (585.9 MB)\n",
            "\u001b[2K     \u001b[90m━━━━━━━━━━━━━━━━━━━━━━━━━━━━━━━━━━━━━━━━\u001b[0m \u001b[32m585.9/585.9 MB\u001b[0m \u001b[31m1.3 MB/s\u001b[0m eta \u001b[36m0:00:00\u001b[0m\n",
            "\u001b[?25hRequirement already satisfied: absl-py>=1.0.0 in /usr/local/lib/python3.10/dist-packages (from tensorflow==2.12.0) (1.4.0)\n",
            "Requirement already satisfied: astunparse>=1.6.0 in /usr/local/lib/python3.10/dist-packages (from tensorflow==2.12.0) (1.6.3)\n",
            "Requirement already satisfied: flatbuffers>=2.0 in /usr/local/lib/python3.10/dist-packages (from tensorflow==2.12.0) (24.3.7)\n",
            "Collecting gast<=0.4.0,>=0.2.1 (from tensorflow==2.12.0)\n",
            "  Downloading gast-0.4.0-py3-none-any.whl (9.8 kB)\n",
            "Requirement already satisfied: google-pasta>=0.1.1 in /usr/local/lib/python3.10/dist-packages (from tensorflow==2.12.0) (0.2.0)\n",
            "Requirement already satisfied: grpcio<2.0,>=1.24.3 in /usr/local/lib/python3.10/dist-packages (from tensorflow==2.12.0) (1.62.1)\n",
            "Requirement already satisfied: h5py>=2.9.0 in /usr/local/lib/python3.10/dist-packages (from tensorflow==2.12.0) (3.9.0)\n",
            "Requirement already satisfied: jax>=0.3.15 in /usr/local/lib/python3.10/dist-packages (from tensorflow==2.12.0) (0.4.23)\n",
            "Collecting keras<2.13,>=2.12.0 (from tensorflow==2.12.0)\n",
            "  Downloading keras-2.12.0-py2.py3-none-any.whl (1.7 MB)\n",
            "\u001b[2K     \u001b[90m━━━━━━━━━━━━━━━━━━━━━━━━━━━━━━━━━━━━━━━━\u001b[0m \u001b[32m1.7/1.7 MB\u001b[0m \u001b[31m88.6 MB/s\u001b[0m eta \u001b[36m0:00:00\u001b[0m\n",
            "\u001b[?25hRequirement already satisfied: libclang>=13.0.0 in /usr/local/lib/python3.10/dist-packages (from tensorflow==2.12.0) (16.0.6)\n",
            "Collecting numpy<1.24,>=1.22 (from tensorflow==2.12.0)\n",
            "  Downloading numpy-1.23.5-cp310-cp310-manylinux_2_17_x86_64.manylinux2014_x86_64.whl (17.1 MB)\n",
            "\u001b[2K     \u001b[90m━━━━━━━━━━━━━━━━━━━━━━━━━━━━━━━━━━━━━━━━\u001b[0m \u001b[32m17.1/17.1 MB\u001b[0m \u001b[31m74.8 MB/s\u001b[0m eta \u001b[36m0:00:00\u001b[0m\n",
            "\u001b[?25hRequirement already satisfied: opt-einsum>=2.3.2 in /usr/local/lib/python3.10/dist-packages (from tensorflow==2.12.0) (3.3.0)\n",
            "Requirement already satisfied: packaging in /usr/local/lib/python3.10/dist-packages (from tensorflow==2.12.0) (24.0)\n",
            "Requirement already satisfied: protobuf!=4.21.0,!=4.21.1,!=4.21.2,!=4.21.3,!=4.21.4,!=4.21.5,<5.0.0dev,>=3.20.3 in /usr/local/lib/python3.10/dist-packages (from tensorflow==2.12.0) (3.20.3)\n",
            "Requirement already satisfied: setuptools in /usr/local/lib/python3.10/dist-packages (from tensorflow==2.12.0) (67.7.2)\n",
            "Requirement already satisfied: six>=1.12.0 in /usr/local/lib/python3.10/dist-packages (from tensorflow==2.12.0) (1.16.0)\n",
            "Collecting tensorboard<2.13,>=2.12 (from tensorflow==2.12.0)\n",
            "  Downloading tensorboard-2.12.3-py3-none-any.whl (5.6 MB)\n",
            "\u001b[2K     \u001b[90m━━━━━━━━━━━━━━━━━━━━━━━━━━━━━━━━━━━━━━━━\u001b[0m \u001b[32m5.6/5.6 MB\u001b[0m \u001b[31m101.7 MB/s\u001b[0m eta \u001b[36m0:00:00\u001b[0m\n",
            "\u001b[?25hCollecting tensorflow-estimator<2.13,>=2.12.0 (from tensorflow==2.12.0)\n",
            "  Downloading tensorflow_estimator-2.12.0-py2.py3-none-any.whl (440 kB)\n",
            "\u001b[2K     \u001b[90m━━━━━━━━━━━━━━━━━━━━━━━━━━━━━━━━━━━━━━━━\u001b[0m \u001b[32m440.7/440.7 kB\u001b[0m \u001b[31m46.4 MB/s\u001b[0m eta \u001b[36m0:00:00\u001b[0m\n",
            "\u001b[?25hRequirement already satisfied: termcolor>=1.1.0 in /usr/local/lib/python3.10/dist-packages (from tensorflow==2.12.0) (2.4.0)\n",
            "Requirement already satisfied: typing-extensions>=3.6.6 in /usr/local/lib/python3.10/dist-packages (from tensorflow==2.12.0) (4.10.0)\n",
            "Requirement already satisfied: wrapt<1.15,>=1.11.0 in /usr/local/lib/python3.10/dist-packages (from tensorflow==2.12.0) (1.14.1)\n",
            "Requirement already satisfied: tensorflow-io-gcs-filesystem>=0.23.1 in /usr/local/lib/python3.10/dist-packages (from tensorflow==2.12.0) (0.36.0)\n",
            "Requirement already satisfied: wheel<1.0,>=0.23.0 in /usr/local/lib/python3.10/dist-packages (from astunparse>=1.6.0->tensorflow==2.12.0) (0.43.0)\n",
            "Requirement already satisfied: ml-dtypes>=0.2.0 in /usr/local/lib/python3.10/dist-packages (from jax>=0.3.15->tensorflow==2.12.0) (0.2.0)\n",
            "Requirement already satisfied: scipy>=1.9 in /usr/local/lib/python3.10/dist-packages (from jax>=0.3.15->tensorflow==2.12.0) (1.11.4)\n",
            "Requirement already satisfied: google-auth<3,>=1.6.3 in /usr/local/lib/python3.10/dist-packages (from tensorboard<2.13,>=2.12->tensorflow==2.12.0) (2.27.0)\n",
            "Collecting google-auth-oauthlib<1.1,>=0.5 (from tensorboard<2.13,>=2.12->tensorflow==2.12.0)\n",
            "  Downloading google_auth_oauthlib-1.0.0-py2.py3-none-any.whl (18 kB)\n",
            "Requirement already satisfied: markdown>=2.6.8 in /usr/local/lib/python3.10/dist-packages (from tensorboard<2.13,>=2.12->tensorflow==2.12.0) (3.5.2)\n",
            "Requirement already satisfied: requests<3,>=2.21.0 in /usr/local/lib/python3.10/dist-packages (from tensorboard<2.13,>=2.12->tensorflow==2.12.0) (2.31.0)\n",
            "Requirement already satisfied: tensorboard-data-server<0.8.0,>=0.7.0 in /usr/local/lib/python3.10/dist-packages (from tensorboard<2.13,>=2.12->tensorflow==2.12.0) (0.7.2)\n",
            "Requirement already satisfied: werkzeug>=1.0.1 in /usr/local/lib/python3.10/dist-packages (from tensorboard<2.13,>=2.12->tensorflow==2.12.0) (3.0.1)\n",
            "Requirement already satisfied: cachetools<6.0,>=2.0.0 in /usr/local/lib/python3.10/dist-packages (from google-auth<3,>=1.6.3->tensorboard<2.13,>=2.12->tensorflow==2.12.0) (5.3.3)\n",
            "Requirement already satisfied: pyasn1-modules>=0.2.1 in /usr/local/lib/python3.10/dist-packages (from google-auth<3,>=1.6.3->tensorboard<2.13,>=2.12->tensorflow==2.12.0) (0.3.0)\n",
            "Requirement already satisfied: rsa<5,>=3.1.4 in /usr/local/lib/python3.10/dist-packages (from google-auth<3,>=1.6.3->tensorboard<2.13,>=2.12->tensorflow==2.12.0) (4.9)\n",
            "Requirement already satisfied: requests-oauthlib>=0.7.0 in /usr/local/lib/python3.10/dist-packages (from google-auth-oauthlib<1.1,>=0.5->tensorboard<2.13,>=2.12->tensorflow==2.12.0) (1.4.0)\n",
            "Requirement already satisfied: charset-normalizer<4,>=2 in /usr/local/lib/python3.10/dist-packages (from requests<3,>=2.21.0->tensorboard<2.13,>=2.12->tensorflow==2.12.0) (3.3.2)\n",
            "Requirement already satisfied: idna<4,>=2.5 in /usr/local/lib/python3.10/dist-packages (from requests<3,>=2.21.0->tensorboard<2.13,>=2.12->tensorflow==2.12.0) (3.6)\n",
            "Requirement already satisfied: urllib3<3,>=1.21.1 in /usr/local/lib/python3.10/dist-packages (from requests<3,>=2.21.0->tensorboard<2.13,>=2.12->tensorflow==2.12.0) (2.0.7)\n",
            "Requirement already satisfied: certifi>=2017.4.17 in /usr/local/lib/python3.10/dist-packages (from requests<3,>=2.21.0->tensorboard<2.13,>=2.12->tensorflow==2.12.0) (2024.2.2)\n",
            "Requirement already satisfied: MarkupSafe>=2.1.1 in /usr/local/lib/python3.10/dist-packages (from werkzeug>=1.0.1->tensorboard<2.13,>=2.12->tensorflow==2.12.0) (2.1.5)\n",
            "Requirement already satisfied: pyasn1<0.6.0,>=0.4.6 in /usr/local/lib/python3.10/dist-packages (from pyasn1-modules>=0.2.1->google-auth<3,>=1.6.3->tensorboard<2.13,>=2.12->tensorflow==2.12.0) (0.5.1)\n",
            "Requirement already satisfied: oauthlib>=3.0.0 in /usr/local/lib/python3.10/dist-packages (from requests-oauthlib>=0.7.0->google-auth-oauthlib<1.1,>=0.5->tensorboard<2.13,>=2.12->tensorflow==2.12.0) (3.2.2)\n",
            "Installing collected packages: tensorflow-estimator, numpy, keras, gast, google-auth-oauthlib, tensorboard, tensorflow\n",
            "  Attempting uninstall: tensorflow-estimator\n",
            "    Found existing installation: tensorflow-estimator 2.15.0\n",
            "    Uninstalling tensorflow-estimator-2.15.0:\n",
            "      Successfully uninstalled tensorflow-estimator-2.15.0\n",
            "  Attempting uninstall: numpy\n",
            "    Found existing installation: numpy 1.25.2\n",
            "    Uninstalling numpy-1.25.2:\n",
            "      Successfully uninstalled numpy-1.25.2\n",
            "  Attempting uninstall: keras\n",
            "    Found existing installation: keras 2.15.0\n",
            "    Uninstalling keras-2.15.0:\n",
            "      Successfully uninstalled keras-2.15.0\n",
            "  Attempting uninstall: gast\n",
            "    Found existing installation: gast 0.5.4\n",
            "    Uninstalling gast-0.5.4:\n",
            "      Successfully uninstalled gast-0.5.4\n",
            "  Attempting uninstall: google-auth-oauthlib\n",
            "    Found existing installation: google-auth-oauthlib 1.2.0\n",
            "    Uninstalling google-auth-oauthlib-1.2.0:\n",
            "      Successfully uninstalled google-auth-oauthlib-1.2.0\n",
            "  Attempting uninstall: tensorboard\n",
            "    Found existing installation: tensorboard 2.15.2\n",
            "    Uninstalling tensorboard-2.15.2:\n",
            "      Successfully uninstalled tensorboard-2.15.2\n",
            "  Attempting uninstall: tensorflow\n",
            "    Found existing installation: tensorflow 2.15.0\n",
            "    Uninstalling tensorflow-2.15.0:\n",
            "      Successfully uninstalled tensorflow-2.15.0\n",
            "\u001b[31mERROR: pip's dependency resolver does not currently take into account all the packages that are installed. This behaviour is the source of the following dependency conflicts.\n",
            "chex 0.1.85 requires numpy>=1.24.1, but you have numpy 1.23.5 which is incompatible.\n",
            "tf-keras 2.15.1 requires tensorflow<2.16,>=2.15, but you have tensorflow 2.12.0 which is incompatible.\u001b[0m\u001b[31m\n",
            "\u001b[0mSuccessfully installed gast-0.4.0 google-auth-oauthlib-1.0.0 keras-2.12.0 numpy-1.23.5 tensorboard-2.12.3 tensorflow-2.12.0 tensorflow-estimator-2.12.0\n"
          ]
        },
        {
          "output_type": "display_data",
          "data": {
            "application/vnd.colab-display-data+json": {
              "pip_warning": {
                "packages": [
                  "numpy"
                ]
              },
              "id": "8188c1d1c9f64180b5e1f0e8f58b9d36"
            }
          },
          "metadata": {}
        }
      ]
    },
    {
      "cell_type": "code",
      "source": [
        "pip install tflearn"
      ],
      "metadata": {
        "colab": {
          "base_uri": "https://localhost:8080/"
        },
        "id": "heXRM31WjLl7",
        "outputId": "fa00a914-fd99-4be0-e220-f98cea23220b"
      },
      "execution_count": null,
      "outputs": [
        {
          "output_type": "stream",
          "name": "stdout",
          "text": [
            "Collecting tflearn\n",
            "  Downloading tflearn-0.5.0.tar.gz (107 kB)\n",
            "\u001b[?25l     \u001b[90m━━━━━━━━━━━━━━━━━━━━━━━━━━━━━━━━━━━━━━━━\u001b[0m \u001b[32m0.0/107.3 kB\u001b[0m \u001b[31m?\u001b[0m eta \u001b[36m-:--:--\u001b[0m\r\u001b[2K     \u001b[91m━━━━━━━━━━━━━━━━━━━━━━\u001b[0m\u001b[91m╸\u001b[0m\u001b[90m━━━━━━━━━━━━━━━━━\u001b[0m \u001b[32m61.4/107.3 kB\u001b[0m \u001b[31m1.4 MB/s\u001b[0m eta \u001b[36m0:00:01\u001b[0m\r\u001b[2K     \u001b[90m━━━━━━━━━━━━━━━━━━━━━━━━━━━━━━━━━━━━━━━━\u001b[0m \u001b[32m107.3/107.3 kB\u001b[0m \u001b[31m1.4 MB/s\u001b[0m eta \u001b[36m0:00:00\u001b[0m\n",
            "\u001b[?25h  Preparing metadata (setup.py) ... \u001b[?25l\u001b[?25hdone\n",
            "Requirement already satisfied: numpy in /usr/local/lib/python3.10/dist-packages (from tflearn) (1.23.5)\n",
            "Requirement already satisfied: six in /usr/local/lib/python3.10/dist-packages (from tflearn) (1.16.0)\n",
            "Requirement already satisfied: Pillow in /usr/local/lib/python3.10/dist-packages (from tflearn) (9.4.0)\n",
            "Building wheels for collected packages: tflearn\n",
            "  Building wheel for tflearn (setup.py) ... \u001b[?25l\u001b[?25hdone\n",
            "  Created wheel for tflearn: filename=tflearn-0.5.0-py3-none-any.whl size=127283 sha256=a93b8000b4e632f9be5282b31fc2f2e2624e1bfac032344fbf54a2e0320bb9d5\n",
            "  Stored in directory: /root/.cache/pip/wheels/55/fb/7b/e06204a0ceefa45443930b9a250cb5ebe31def0e4e8245a465\n",
            "Successfully built tflearn\n",
            "Installing collected packages: tflearn\n",
            "Successfully installed tflearn-0.5.0\n"
          ]
        }
      ]
    },
    {
      "cell_type": "code",
      "source": [
        "import tflearn\n"
      ],
      "metadata": {
        "colab": {
          "base_uri": "https://localhost:8080/"
        },
        "id": "osBz0uKCjvyn",
        "outputId": "b876e049-0fc4-410b-9f89-498f39d0bd0c"
      },
      "execution_count": null,
      "outputs": [
        {
          "output_type": "stream",
          "name": "stderr",
          "text": [
            "WARNING:tensorflow:From /usr/local/lib/python3.10/dist-packages/tensorflow/python/compat/v2_compat.py:107: disable_resource_variables (from tensorflow.python.ops.variable_scope) is deprecated and will be removed in a future version.\n",
            "Instructions for updating:\n",
            "non-resource variables are not supported in the long term\n"
          ]
        }
      ]
    },
    {
      "cell_type": "code",
      "source": [
        "import tensorflow as tf\n",
        "import keras\n",
        "from keras.models import Sequential\n",
        "from keras.utils import to_categorical"
      ],
      "metadata": {
        "id": "2OJbd-7EjLpR"
      },
      "execution_count": null,
      "outputs": []
    },
    {
      "cell_type": "code",
      "source": [
        "from keras.layers import Conv2D, Flatten, MaxPooling2D, Dense"
      ],
      "metadata": {
        "id": "e6AvofMkk9KQ"
      },
      "execution_count": null,
      "outputs": []
    },
    {
      "cell_type": "code",
      "source": [
        "from google.colab import drive\n",
        "drive.mount(\"/content/drive\")"
      ],
      "metadata": {
        "colab": {
          "base_uri": "https://localhost:8080/"
        },
        "id": "TtQZc3F9lFL5",
        "outputId": "e7a4e02f-93fd-4dde-9128-69cacf1a735a"
      },
      "execution_count": null,
      "outputs": [
        {
          "output_type": "stream",
          "name": "stdout",
          "text": [
            "Drive already mounted at /content/drive; to attempt to forcibly remount, call drive.mount(\"/content/drive\", force_remount=True).\n"
          ]
        }
      ]
    },
    {
      "cell_type": "code",
      "execution_count": null,
      "metadata": {
        "id": "Wx3TbTEhbgyO"
      },
      "outputs": [],
      "source": [
        "### pre-trained"
      ]
    },
    {
      "cell_type": "code",
      "execution_count": null,
      "metadata": {
        "id": "V9ZF2LysbjYF",
        "colab": {
          "base_uri": "https://localhost:8080/"
        },
        "outputId": "44186e79-77c8-48e0-90c0-7cd656243a55"
      },
      "outputs": [
        {
          "output_type": "stream",
          "name": "stdout",
          "text": [
            "file id name 12jiQxJzYSYl3wnC8x5wHAhRzzJmmsCXP\n"
          ]
        },
        {
          "output_type": "stream",
          "name": "stderr",
          "text": [
            "Downloading...\n",
            "From: https://drive.google.com/uc?/export=download&id=12jiQxJzYSYl3wnC8x5wHAhRzzJmmsCXP\n",
            "To: /content/catAndDog.zip\n",
            "100%|██████████| 9.09M/9.09M [00:00<00:00, 74.3MB/s]"
          ]
        },
        {
          "output_type": "stream",
          "name": "stdout",
          "text": [
            "finish\n"
          ]
        },
        {
          "output_type": "stream",
          "name": "stderr",
          "text": [
            "\n"
          ]
        }
      ],
      "source": [
        "import gdown\n",
        "url = \"https://drive.google.com/file/d/12jiQxJzYSYl3wnC8x5wHAhRzzJmmsCXP/view\"\n",
        "fileId  = url.split(\"/\")[-2]\n",
        "print(\"file id name\",fileId)\n",
        "prefix = \"https://drive.google.com/uc?/export=download&id=\"\n",
        "gdown.download(prefix+fileId,\"catAndDog.zip\")\n",
        "print(\"finish\")"
      ]
    },
    {
      "cell_type": "code",
      "source": [
        "!unzip catAndDog.zip"
      ],
      "metadata": {
        "id": "RmV2OGe1Dlv3"
      },
      "execution_count": null,
      "outputs": []
    },
    {
      "cell_type": "code",
      "source": [
        "from keras.applications.vgg16 import VGG16, preprocess_input"
      ],
      "metadata": {
        "id": "kkZJlQf5lmDx"
      },
      "execution_count": null,
      "outputs": []
    },
    {
      "cell_type": "code",
      "source": [
        "from keras.preprocessing.image import ImageDataGenerator"
      ],
      "metadata": {
        "id": "cPw8F-6qmLOM"
      },
      "execution_count": null,
      "outputs": []
    },
    {
      "cell_type": "code",
      "source": [
        "train_data_dir = \"/content/train\"\n",
        "validation_data_dir = \"/content/validation\"\n",
        "\n",
        "num_train_sample = 2000\n",
        "num_validation_sample = 800\n",
        "\n",
        "epochs = 3\n",
        "batch_size = 16\n"
      ],
      "metadata": {
        "id": "_a-4Q7rmEBsV"
      },
      "execution_count": null,
      "outputs": []
    },
    {
      "cell_type": "code",
      "source": [
        "base_model = VGG16(include_top= False, weights=\"imagenet\",input_shape=(224,224,3))\n"
      ],
      "metadata": {
        "id": "pgBxlPKKEs0x"
      },
      "execution_count": null,
      "outputs": []
    },
    {
      "cell_type": "code",
      "source": [
        "for layer in base_model.layers :\n",
        "    print(layer)"
      ],
      "metadata": {
        "colab": {
          "base_uri": "https://localhost:8080/"
        },
        "id": "LywoHrrJE97k",
        "outputId": "befe2b72-ca4b-4dba-aaca-98a1a8e5a343"
      },
      "execution_count": null,
      "outputs": [
        {
          "output_type": "stream",
          "name": "stdout",
          "text": [
            "<keras.src.engine.input_layer.InputLayer object at 0x7d30a851b940>\n",
            "<keras.src.layers.convolutional.conv2d.Conv2D object at 0x7d30a8518f70>\n",
            "<keras.src.layers.convolutional.conv2d.Conv2D object at 0x7d30a851afb0>\n",
            "<keras.src.layers.pooling.max_pooling2d.MaxPooling2D object at 0x7d30a85196c0>\n",
            "<keras.src.layers.convolutional.conv2d.Conv2D object at 0x7d30a851bb80>\n",
            "<keras.src.layers.convolutional.conv2d.Conv2D object at 0x7d30a851a9b0>\n",
            "<keras.src.layers.pooling.max_pooling2d.MaxPooling2D object at 0x7d30a8234490>\n",
            "<keras.src.layers.convolutional.conv2d.Conv2D object at 0x7d30a8235930>\n",
            "<keras.src.layers.convolutional.conv2d.Conv2D object at 0x7d30a8236050>\n",
            "<keras.src.layers.convolutional.conv2d.Conv2D object at 0x7d30a851b4c0>\n",
            "<keras.src.layers.pooling.max_pooling2d.MaxPooling2D object at 0x7d30a8236e90>\n",
            "<keras.src.layers.convolutional.conv2d.Conv2D object at 0x7d30a8235780>\n",
            "<keras.src.layers.convolutional.conv2d.Conv2D object at 0x7d30a8234220>\n",
            "<keras.src.layers.convolutional.conv2d.Conv2D object at 0x7d30a824d5a0>\n",
            "<keras.src.layers.pooling.max_pooling2d.MaxPooling2D object at 0x7d30a824e380>\n",
            "<keras.src.layers.convolutional.conv2d.Conv2D object at 0x7d30a824ebf0>\n",
            "<keras.src.layers.convolutional.conv2d.Conv2D object at 0x7d30a824f310>\n",
            "<keras.src.layers.convolutional.conv2d.Conv2D object at 0x7d30a824fc10>\n",
            "<keras.src.layers.pooling.max_pooling2d.MaxPooling2D object at 0x7d30a825c4c0>\n"
          ]
        }
      ]
    },
    {
      "cell_type": "code",
      "source": [
        "for layer in base_model.layers :\n",
        "    layer.trainable = False"
      ],
      "metadata": {
        "id": "0CbSY0kkFBth"
      },
      "execution_count": null,
      "outputs": []
    },
    {
      "cell_type": "code",
      "source": [
        "from keras.layers import Dropout"
      ],
      "metadata": {
        "id": "kH-el9flFqTq"
      },
      "execution_count": null,
      "outputs": []
    },
    {
      "cell_type": "code",
      "source": [
        "\n",
        "model = Sequential()\n",
        "\n",
        "model.add(base_model)\n",
        "model.add(Flatten())\n",
        "model.add(Dense(256, activation=\"relu\"))\n",
        "model.add(Dropout(0.5))\n",
        "model.add(Dense(1,activation=\"sigmoid\"))"
      ],
      "metadata": {
        "id": "BU7d47VeFLuD"
      },
      "execution_count": null,
      "outputs": []
    },
    {
      "cell_type": "code",
      "source": [
        "model.compile(loss = \"binary_crossentropy\", optimizer=\"adam\", metrics = [\"accuracy\"])"
      ],
      "metadata": {
        "id": "3hlUTr7AFlb5"
      },
      "execution_count": null,
      "outputs": []
    },
    {
      "cell_type": "code",
      "source": [
        "## preprocessing of traindata and validation data"
      ],
      "metadata": {
        "id": "T7gBCL0RF-jO"
      },
      "execution_count": null,
      "outputs": []
    },
    {
      "cell_type": "code",
      "source": [
        "train_datagen = ImageDataGenerator(preprocessing_function= preprocess_input)\n",
        "validation_datagen = ImageDataGenerator(preprocessing_function= preprocess_input)"
      ],
      "metadata": {
        "id": "k9lQ9o33GEpr"
      },
      "execution_count": null,
      "outputs": []
    },
    {
      "cell_type": "code",
      "source": [
        "train_genrator = train_datagen.flow_from_directory(\n",
        "    train_data_dir,\n",
        "    target_size= (224,224),\n",
        "    batch_size = batch_size,\n",
        "    class_mode = \"binary\"\n",
        ")\n",
        "\n",
        "validation_genrator = validation_datagen.flow_from_directory(\n",
        "    validation_data_dir,\n",
        "    target_size= (224,224),\n",
        "    batch_size = batch_size,\n",
        "    class_mode = \"binary\"\n",
        ")\n",
        "\n"
      ],
      "metadata": {
        "colab": {
          "base_uri": "https://localhost:8080/"
        },
        "id": "WDvN1_VkGU6A",
        "outputId": "27c3ffbb-5c8d-4f61-f93e-33b71351f35e"
      },
      "execution_count": null,
      "outputs": [
        {
          "output_type": "stream",
          "name": "stdout",
          "text": [
            "Found 337 images belonging to 2 classes.\n",
            "Found 59 images belonging to 2 classes.\n"
          ]
        }
      ]
    },
    {
      "cell_type": "code",
      "source": [
        "model.fit(\n",
        "    train_genrator,\n",
        "    steps_per_epoch = num_train_sample//batch_size,\n",
        "    epochs = epochs,\n",
        "    validation_data = validation_genrator,\n",
        "    validation_steps = num_validation_sample//batch_size\n",
        ")"
      ],
      "metadata": {
        "colab": {
          "base_uri": "https://localhost:8080/"
        },
        "id": "JUZ3p60jLIJV",
        "outputId": "979e5ed0-b80a-4357-bedd-eeaa2d1ad54c"
      },
      "execution_count": null,
      "outputs": [
        {
          "output_type": "stream",
          "name": "stdout",
          "text": [
            "Epoch 1/3\n",
            " 22/125 [====>.........................] - ETA: 16:02 - loss: 6.8131 - accuracy: 0.8457"
          ]
        },
        {
          "output_type": "stream",
          "name": "stderr",
          "text": [
            "WARNING:tensorflow:Your input ran out of data; interrupting training. Make sure that your dataset or generator can generate at least `steps_per_epoch * epochs` batches (in this case, 375 batches). You may need to use the repeat() function when building your dataset.\n",
            "WARNING:tensorflow:Your input ran out of data; interrupting training. Make sure that your dataset or generator can generate at least `steps_per_epoch * epochs` batches (in this case, 50 batches). You may need to use the repeat() function when building your dataset.\n"
          ]
        },
        {
          "output_type": "stream",
          "name": "stdout",
          "text": [
            "\b\b\b\b\b\b\b\b\b\b\b\b\b\b\b\b\b\b\b\b\b\b\b\b\b\b\b\b\b\b\b\b\b\b\b\b\b\b\b\b\b\b\b\b\b\b\b\b\b\b\b\b\b\b\b\b\b\b\b\b\b\b\b\b\b\b\b\b\b\b\b\b\b\b\b\b\b\b\b\b\b\b\b\b\b\b\b\r125/125 [==============================] - 250s 2s/step - loss: 6.8131 - accuracy: 0.8457 - val_loss: 6.3589 - val_accuracy: 0.9322\n"
          ]
        },
        {
          "output_type": "execute_result",
          "data": {
            "text/plain": [
              "<keras.src.callbacks.History at 0x7d30b0fa7670>"
            ]
          },
          "metadata": {},
          "execution_count": 19
        }
      ]
    },
    {
      "cell_type": "code",
      "source": [
        "model.save(\"dog_cat_classifier.h5\")"
      ],
      "metadata": {
        "colab": {
          "base_uri": "https://localhost:8080/"
        },
        "id": "GNaTeiO5MBhL",
        "outputId": "6ac64fef-e513-4b2b-b87f-4d9b7a2553ee"
      },
      "execution_count": null,
      "outputs": [
        {
          "output_type": "stream",
          "name": "stderr",
          "text": [
            "/usr/local/lib/python3.10/dist-packages/keras/src/engine/training.py:3103: UserWarning: You are saving your model as an HDF5 file via `model.save()`. This file format is considered legacy. We recommend using instead the native Keras format, e.g. `model.save('my_model.keras')`.\n",
            "  saving_api.save_model(\n"
          ]
        }
      ]
    },
    {
      "cell_type": "code",
      "source": [
        "from keras.models import load_model"
      ],
      "metadata": {
        "id": "_o_Y-7JbMlZA"
      },
      "execution_count": null,
      "outputs": []
    },
    {
      "cell_type": "code",
      "source": [
        "newModel = load_model(\"dog_cat_classifier.h5\")"
      ],
      "metadata": {
        "id": "_QtA5DVjMqqp"
      },
      "execution_count": null,
      "outputs": []
    },
    {
      "cell_type": "code",
      "source": [
        "\n",
        "newModel"
      ],
      "metadata": {
        "colab": {
          "base_uri": "https://localhost:8080/"
        },
        "id": "0mg00caPMvXh",
        "outputId": "e0c3cb7e-0a8f-4be3-8517-23a8dadf9458"
      },
      "execution_count": null,
      "outputs": [
        {
          "output_type": "execute_result",
          "data": {
            "text/plain": [
              "<keras.src.engine.sequential.Sequential at 0x7fa51c3f3940>"
            ]
          },
          "metadata": {},
          "execution_count": 44
        }
      ]
    },
    {
      "cell_type": "code",
      "source": [
        "for layer in newModel.layers :\n",
        "    print(layer)"
      ],
      "metadata": {
        "colab": {
          "base_uri": "https://localhost:8080/"
        },
        "id": "3ZLjwXh_Mw7f",
        "outputId": "5e391f7d-31e1-447b-f4be-941576782ac0"
      },
      "execution_count": null,
      "outputs": [
        {
          "output_type": "stream",
          "name": "stdout",
          "text": [
            "<keras.src.engine.functional.Functional object at 0x7d30a845d000>\n",
            "<keras.src.layers.reshaping.flatten.Flatten object at 0x7d30a84ab340>\n",
            "<keras.src.layers.core.dense.Dense object at 0x7d30b03cf010>\n",
            "<keras.src.layers.regularization.dropout.Dropout object at 0x7d30a84bdf00>\n",
            "<keras.src.layers.core.dense.Dense object at 0x7d30a84e9c60>\n"
          ]
        }
      ]
    },
    {
      "cell_type": "code",
      "source": [
        "from keras.preprocessing import image"
      ],
      "metadata": {
        "id": "4wOmxb8oM1SE"
      },
      "execution_count": null,
      "outputs": []
    },
    {
      "cell_type": "code",
      "source": [
        "imagePath = \"/content/DogImage.webp\"\n",
        "img = image.load_img(imagePath,target_size=(224,224))\n",
        "img"
      ],
      "metadata": {
        "colab": {
          "base_uri": "https://localhost:8080/",
          "height": 241
        },
        "id": "IFWAeeM3OD04",
        "outputId": "3425b5b4-a015-41c7-b482-437d3a3e4214"
      },
      "execution_count": null,
      "outputs": [
        {
          "output_type": "execute_result",
          "data": {
            "text/plain": [
              "<PIL.Image.Image image mode=RGB size=224x224>"
            ],
            "image/png": "[encoded data removed]"
          },
          "metadata": {},
          "execution_count": 39
        }
      ]
    },
    {
      "cell_type": "code",
      "source": [
        "img_array = image.img_to_array(img)\n",
        "img_array"
      ],
      "metadata": {
        "colab": {
          "base_uri": "https://localhost:8080/"
        },
        "id": "fkdcKnzOOODr",
        "outputId": "a93d325f-13be-4b01-a389-234e200beb16"
      },
      "execution_count": null,
      "outputs": [
        {
          "output_type": "execute_result",
          "data": {
            "text/plain": [
              "array([[[167., 136.,  89.],\n",
              "        [166., 138.,  88.],\n",
              "        [166., 138.,  88.],\n",
              "        ...,\n",
              "        [123.,  96.,  53.],\n",
              "        [117.,  95.,  52.],\n",
              "        [117.,  92.,  46.]],\n",
              "\n",
              "       [[165., 137.,  85.],\n",
              "        [166., 138.,  88.],\n",
              "        [168., 140.,  88.],\n",
              "        ...,\n",
              "        [117.,  97.,  53.],\n",
              "        [117.,  95.,  50.],\n",
              "        [113.,  95.,  51.]],\n",
              "\n",
              "       [[163., 135.,  83.],\n",
              "        [164., 136.,  86.],\n",
              "        [165., 137.,  85.],\n",
              "        ...,\n",
              "        [115.,  97.,  53.],\n",
              "        [116.,  96.,  48.],\n",
              "        [115.,  95.,  47.]],\n",
              "\n",
              "       ...,\n",
              "\n",
              "       [[140., 133.,  81.],\n",
              "        [169., 174., 111.],\n",
              "        [183., 182., 133.],\n",
              "        ...,\n",
              "        [144., 151., 110.],\n",
              "        [115., 111.,  76.],\n",
              "        [204., 197., 158.]],\n",
              "\n",
              "       [[133., 121.,  68.],\n",
              "        [121., 125.,  62.],\n",
              "        [169., 176., 119.],\n",
              "        ...,\n",
              "        [153., 150., 112.],\n",
              "        [128., 115.,  74.],\n",
              "        [131., 128.,  81.]],\n",
              "\n",
              "       [[127., 124.,  68.],\n",
              "        [126., 134.,  72.],\n",
              "        [159., 166.,  98.],\n",
              "        ...,\n",
              "        [125., 124.,  86.],\n",
              "        [108.,  99.,  56.],\n",
              "        [137., 127.,  87.]]], dtype=float32)"
            ]
          },
          "metadata": {},
          "execution_count": 40
        }
      ]
    },
    {
      "cell_type": "code",
      "source": [
        "img_array_new = img_array.reshape(1,224,224,3)\n",
        "img_array_new"
      ],
      "metadata": {
        "colab": {
          "base_uri": "https://localhost:8080/"
        },
        "id": "kX7zc50FSrMr",
        "outputId": "aaf8f4f4-3d7c-4bca-c481-41b1b76498f1"
      },
      "execution_count": null,
      "outputs": [
        {
          "output_type": "execute_result",
          "data": {
            "text/plain": [
              "array([[[[167., 136.,  89.],\n",
              "         [166., 138.,  88.],\n",
              "         [166., 138.,  88.],\n",
              "         ...,\n",
              "         [123.,  96.,  53.],\n",
              "         [117.,  95.,  52.],\n",
              "         [117.,  92.,  46.]],\n",
              "\n",
              "        [[165., 137.,  85.],\n",
              "         [166., 138.,  88.],\n",
              "         [168., 140.,  88.],\n",
              "         ...,\n",
              "         [117.,  97.,  53.],\n",
              "         [117.,  95.,  50.],\n",
              "         [113.,  95.,  51.]],\n",
              "\n",
              "        [[163., 135.,  83.],\n",
              "         [164., 136.,  86.],\n",
              "         [165., 137.,  85.],\n",
              "         ...,\n",
              "         [115.,  97.,  53.],\n",
              "         [116.,  96.,  48.],\n",
              "         [115.,  95.,  47.]],\n",
              "\n",
              "        ...,\n",
              "\n",
              "        [[140., 133.,  81.],\n",
              "         [169., 174., 111.],\n",
              "         [183., 182., 133.],\n",
              "         ...,\n",
              "         [144., 151., 110.],\n",
              "         [115., 111.,  76.],\n",
              "         [204., 197., 158.]],\n",
              "\n",
              "        [[133., 121.,  68.],\n",
              "         [121., 125.,  62.],\n",
              "         [169., 176., 119.],\n",
              "         ...,\n",
              "         [153., 150., 112.],\n",
              "         [128., 115.,  74.],\n",
              "         [131., 128.,  81.]],\n",
              "\n",
              "        [[127., 124.,  68.],\n",
              "         [126., 134.,  72.],\n",
              "         [159., 166.,  98.],\n",
              "         ...,\n",
              "         [125., 124.,  86.],\n",
              "         [108.,  99.,  56.],\n",
              "         [137., 127.,  87.]]]], dtype=float32)"
            ]
          },
          "metadata": {},
          "execution_count": 41
        }
      ]
    },
    {
      "cell_type": "code",
      "source": [
        "from keras.applications.vgg16 import preprocess_input"
      ],
      "metadata": {
        "id": "11fws6LGObmb"
      },
      "execution_count": null,
      "outputs": []
    },
    {
      "cell_type": "code",
      "source": [
        "preprocessedImg = preprocess_input(img_array_new)\n",
        "preprocessedImg"
      ],
      "metadata": {
        "colab": {
          "base_uri": "https://localhost:8080/"
        },
        "id": "bBs7ntXDOgtN",
        "outputId": "c8c3b229-c1e9-4903-d268-1b2b57a668a0"
      },
      "execution_count": null,
      "outputs": [
        {
          "output_type": "execute_result",
          "data": {
            "text/plain": [
              "array([[[[-14.939003 ,  19.221    ,  43.32     ],\n",
              "         [-15.939003 ,  21.221    ,  42.32     ],\n",
              "         [-15.939003 ,  21.221    ,  42.32     ],\n",
              "         ...,\n",
              "         [-50.939003 , -20.779    ,  -0.6800003],\n",
              "         [-51.939003 , -21.779    ,  -6.6800003],\n",
              "         [-57.939003 , -24.779    ,  -6.6800003]],\n",
              "\n",
              "        [[-18.939003 ,  20.221    ,  41.32     ],\n",
              "         [-15.939003 ,  21.221    ,  42.32     ],\n",
              "         [-15.939003 ,  23.221    ,  44.32     ],\n",
              "         ...,\n",
              "         [-50.939003 , -19.779    ,  -6.6800003],\n",
              "         [-53.939003 , -21.779    ,  -6.6800003],\n",
              "         [-52.939003 , -21.779    , -10.68     ]],\n",
              "\n",
              "        [[-20.939003 ,  18.221    ,  39.32     ],\n",
              "         [-17.939003 ,  19.221    ,  40.32     ],\n",
              "         [-18.939003 ,  20.221    ,  41.32     ],\n",
              "         ...,\n",
              "         [-50.939003 , -19.779    ,  -8.68     ],\n",
              "         [-55.939003 , -20.779    ,  -7.6800003],\n",
              "         [-56.939003 , -21.779    ,  -8.68     ]],\n",
              "\n",
              "        ...,\n",
              "\n",
              "        [[-22.939003 ,  16.221    ,  16.32     ],\n",
              "         [  7.060997 ,  57.221    ,  45.32     ],\n",
              "         [ 29.060997 ,  65.221    ,  59.32     ],\n",
              "         ...,\n",
              "         [  6.060997 ,  34.221    ,  20.32     ],\n",
              "         [-27.939003 ,  -5.7789993,  -8.68     ],\n",
              "         [ 54.060997 ,  80.221    ,  80.32     ]],\n",
              "\n",
              "        [[-35.939003 ,   4.2210007,   9.32     ],\n",
              "         [-41.939003 ,   8.221001 ,  -2.6800003],\n",
              "         [ 15.060997 ,  59.221    ,  45.32     ],\n",
              "         ...,\n",
              "         [  8.060997 ,  33.221    ,  29.32     ],\n",
              "         [-29.939003 ,  -1.7789993,   4.3199997],\n",
              "         [-22.939003 ,  11.221001 ,   7.3199997]],\n",
              "\n",
              "        [[-35.939003 ,   7.2210007,   3.3199997],\n",
              "         [-31.939003 ,  17.221    ,   2.3199997],\n",
              "         [ -5.939003 ,  49.221    ,  35.32     ],\n",
              "         ...,\n",
              "         [-17.939003 ,   7.2210007,   1.3199997],\n",
              "         [-47.939003 , -17.779    , -15.68     ],\n",
              "         [-16.939003 ,  10.221001 ,  13.32     ]]]], dtype=float32)"
            ]
          },
          "metadata": {},
          "execution_count": 43
        }
      ]
    },
    {
      "cell_type": "code",
      "source": [
        "y_predict = newModel.predict(preprocessedImg)\n",
        "y_predict"
      ],
      "metadata": {
        "colab": {
          "base_uri": "https://localhost:8080/"
        },
        "id": "wrEedQ4eOpLF",
        "outputId": "21aed10f-3bb7-4635-8356-24a2416b838b"
      },
      "execution_count": null,
      "outputs": [
        {
          "output_type": "stream",
          "name": "stdout",
          "text": [
            "1/1 [==============================] - 1s 736ms/step\n"
          ]
        },
        {
          "output_type": "execute_result",
          "data": {
            "text/plain": [
              "array([[1.]], dtype=float32)"
            ]
          },
          "metadata": {},
          "execution_count": 44
        }
      ]
    },
    {
      "cell_type": "code",
      "source": [
        "img2 = image.load_img(\"catImage.jpg\",target_size=(224,224))\n",
        "img2"
      ],
      "metadata": {
        "colab": {
          "base_uri": "https://localhost:8080/",
          "height": 241
        },
        "id": "DNe5nDX4os6x",
        "outputId": "b9160309-218b-4f9b-d087-c07c72d0f181"
      },
      "execution_count": null,
      "outputs": [
        {
          "output_type": "execute_result",
          "data": {
            "text/plain": [
              "<PIL.Image.Image image mode=RGB size=224x224>"
            ],
            "image/png": "[encoded data removed]"
          },
          "metadata": {},
          "execution_count": 55
        }
      ]
    },
    {
      "cell_type": "code",
      "source": [
        "img2 = image.img_to_array(img2)\n"
      ],
      "metadata": {
        "id": "GaeVWguzos8J"
      },
      "execution_count": null,
      "outputs": []
    },
    {
      "cell_type": "code",
      "source": [
        "img2 = img2.reshape(1,224,224,3)\n",
        "img2.shape"
      ],
      "metadata": {
        "colab": {
          "base_uri": "https://localhost:8080/"
        },
        "id": "_8IkF2N6os-4",
        "outputId": "687a5b99-0183-477d-ecbd-dac7ee25fe52"
      },
      "execution_count": null,
      "outputs": [
        {
          "output_type": "execute_result",
          "data": {
            "text/plain": [
              "(1, 224, 224, 3)"
            ]
          },
          "metadata": {},
          "execution_count": 57
        }
      ]
    },
    {
      "cell_type": "code",
      "source": [
        "preprocessedImg2 = preprocess_input(img2)\n",
        "preprocessedImg2"
      ],
      "metadata": {
        "colab": {
          "base_uri": "https://localhost:8080/"
        },
        "id": "aZmxtD75otA8",
        "outputId": "b0cf5813-19da-488c-8212-2514cf7afc8f"
      },
      "execution_count": null,
      "outputs": [
        {
          "output_type": "execute_result",
          "data": {
            "text/plain": [
              "array([[[[151.061  , 138.22101, 131.32   ],\n",
              "         [151.061  , 138.22101, 131.32   ],\n",
              "         [151.061  , 138.22101, 131.32   ],\n",
              "         ...,\n",
              "         [151.061  , 138.22101, 131.32   ],\n",
              "         [151.061  , 138.22101, 131.32   ],\n",
              "         [151.061  , 138.22101, 131.32   ]],\n",
              "\n",
              "        [[151.061  , 138.22101, 131.32   ],\n",
              "         [151.061  , 138.22101, 131.32   ],\n",
              "         [151.061  , 138.22101, 131.32   ],\n",
              "         ...,\n",
              "         [151.061  , 138.22101, 131.32   ],\n",
              "         [151.061  , 138.22101, 131.32   ],\n",
              "         [151.061  , 138.22101, 131.32   ]],\n",
              "\n",
              "        [[151.061  , 138.22101, 131.32   ],\n",
              "         [151.061  , 138.22101, 131.32   ],\n",
              "         [151.061  , 138.22101, 131.32   ],\n",
              "         ...,\n",
              "         [151.061  , 138.22101, 131.32   ],\n",
              "         [151.061  , 138.22101, 131.32   ],\n",
              "         [151.061  , 138.22101, 131.32   ]],\n",
              "\n",
              "        ...,\n",
              "\n",
              "        [[151.061  , 138.22101, 131.32   ],\n",
              "         [151.061  , 138.22101, 131.32   ],\n",
              "         [151.061  , 138.22101, 131.32   ],\n",
              "         ...,\n",
              "         [151.061  , 138.22101, 131.32   ],\n",
              "         [151.061  , 138.22101, 131.32   ],\n",
              "         [151.061  , 138.22101, 131.32   ]],\n",
              "\n",
              "        [[151.061  , 138.22101, 131.32   ],\n",
              "         [151.061  , 138.22101, 131.32   ],\n",
              "         [151.061  , 138.22101, 131.32   ],\n",
              "         ...,\n",
              "         [151.061  , 138.22101, 131.32   ],\n",
              "         [151.061  , 138.22101, 131.32   ],\n",
              "         [151.061  , 138.22101, 131.32   ]],\n",
              "\n",
              "        [[151.061  , 138.22101, 131.32   ],\n",
              "         [151.061  , 138.22101, 131.32   ],\n",
              "         [151.061  , 138.22101, 131.32   ],\n",
              "         ...,\n",
              "         [151.061  , 138.22101, 131.32   ],\n",
              "         [151.061  , 138.22101, 131.32   ],\n",
              "         [151.061  , 138.22101, 131.32   ]]]], dtype=float32)"
            ]
          },
          "metadata": {},
          "execution_count": 58
        }
      ]
    },
    {
      "cell_type": "code",
      "source": [
        "newModel.predict(preprocessedImg2)"
      ],
      "metadata": {
        "colab": {
          "base_uri": "https://localhost:8080/"
        },
        "id": "q9ZR-Yjhpmwi",
        "outputId": "facd3be6-3506-4f0d-e9ba-84733afca827"
      },
      "execution_count": null,
      "outputs": [
        {
          "output_type": "stream",
          "name": "stdout",
          "text": [
            "1/1 [==============================] - 1s 902ms/step\n"
          ]
        },
        {
          "output_type": "execute_result",
          "data": {
            "text/plain": [
              "array([[0.]], dtype=float32)"
            ]
          },
          "metadata": {},
          "execution_count": 60
        }
      ]
    },
    {
      "cell_type": "code",
      "source": [],
      "metadata": {
        "id": "UAmyFZKspm0A"
      },
      "execution_count": null,
      "outputs": []
    },
    {
      "cell_type": "code",
      "source": [
        "from keras.applications.vgg16 import decode_predictions"
      ],
      "metadata": {
        "id": "-mrmDDi5PNqp"
      },
      "execution_count": null,
      "outputs": []
    },
    {
      "cell_type": "code",
      "source": [
        "decode_predictions()"
      ],
      "metadata": {
        "id": "ctskBf__QOUK"
      },
      "execution_count": null,
      "outputs": []
    },
    {
      "cell_type": "code",
      "source": [
        "newModel.outputs"
      ],
      "metadata": {
        "colab": {
          "base_uri": "https://localhost:8080/"
        },
        "id": "NepTZmmyQ2FV",
        "outputId": "0f9812a2-cd24-4d06-a757-173b51e7af2e"
      },
      "execution_count": null,
      "outputs": [
        {
          "output_type": "execute_result",
          "data": {
            "text/plain": [
              "[<KerasTensor: shape=(None, 1) dtype=float32 (created by layer 'dense_4')>]"
            ]
          },
          "metadata": {},
          "execution_count": 70
        }
      ]
    },
    {
      "cell_type": "code",
      "source": [
        "newModel.get_output_at"
      ],
      "metadata": {
        "colab": {
          "base_uri": "https://localhost:8080/",
          "height": 186
        },
        "id": "uhOc5WcIUL7A",
        "outputId": "7a72d653-a581-4935-b6df-b32c5ae4b3f0"
      },
      "execution_count": null,
      "outputs": [
        {
          "output_type": "execute_result",
          "data": {
            "text/plain": [
              "<bound method Layer.get_output_at of <keras.src.engine.sequential.Sequential object at 0x7fa51c3f3940>>"
            ],
            "text/html": [
              "<div style=\"max-width:800px; border: 1px solid var(--colab-border-color);\"><style>\n",
              "      pre.function-repr-contents {\n",
              "        overflow-x: auto;\n",
              "        padding: 8px 12px;\n",
              "        max-height: 500px;\n",
              "      }\n",
              "\n",
              "      pre.function-repr-contents.function-repr-contents-collapsed {\n",
              "        cursor: pointer;\n",
              "        max-height: 100px;\n",
              "      }\n",
              "    </style>\n",
              "    <pre style=\"white-space: initial; background:\n",
              "         var(--colab-secondary-surface-color); padding: 8px 12px;\n",
              "         border-bottom: 1px solid var(--colab-border-color);\"><b>keras.src.engine.base_layer.Layer.get_output_at</b><br/>def get_output_at(node_index)</pre><pre class=\"function-repr-contents function-repr-contents-collapsed\" style=\"\"><a class=\"filepath\" style=\"display:none\" href=\"#\">/usr/local/lib/python3.10/dist-packages/keras/src/engine/base_layer.py</a>Retrieves the output tensor(s) of a layer at a given node.\n",
              "\n",
              "Args:\n",
              "    node_index: Integer, index of the node\n",
              "        from which to retrieve the attribute.\n",
              "        E.g. `node_index=0` will correspond to the\n",
              "        first output node of the layer.\n",
              "\n",
              "Returns:\n",
              "    A tensor (or list of tensors if the layer has multiple outputs).\n",
              "\n",
              "Raises:\n",
              "  RuntimeError: If called in Eager mode.</pre>\n",
              "      <script>\n",
              "      if (google.colab.kernel.accessAllowed && google.colab.files && google.colab.files.view) {\n",
              "        for (const element of document.querySelectorAll('.filepath')) {\n",
              "          element.style.display = 'block'\n",
              "          element.onclick = (event) => {\n",
              "            event.preventDefault();\n",
              "            event.stopPropagation();\n",
              "            google.colab.files.view(element.textContent, 2039);\n",
              "          };\n",
              "        }\n",
              "      }\n",
              "      for (const element of document.querySelectorAll('.function-repr-contents')) {\n",
              "        element.onclick = (event) => {\n",
              "          event.preventDefault();\n",
              "          event.stopPropagation();\n",
              "          element.classList.toggle('function-repr-contents-collapsed');\n",
              "        };\n",
              "      }\n",
              "      </script>\n",
              "      </div>"
            ]
          },
          "metadata": {},
          "execution_count": 79
        }
      ]
    },
    {
      "cell_type": "code",
      "source": [
        "model.output"
      ],
      "metadata": {
        "colab": {
          "base_uri": "https://localhost:8080/"
        },
        "id": "BfTZiQP_WVa9",
        "outputId": "9b7e964f-8acc-45a3-fb88-d8cc30bf436f"
      },
      "execution_count": null,
      "outputs": [
        {
          "output_type": "execute_result",
          "data": {
            "text/plain": [
              "<KerasTensor: shape=(None, 1) dtype=float32 (created by layer 'dense_4')>"
            ]
          },
          "metadata": {},
          "execution_count": 80
        }
      ]
    },
    {
      "cell_type": "code",
      "source": [
        "model.output_names"
      ],
      "metadata": {
        "colab": {
          "base_uri": "https://localhost:8080/"
        },
        "id": "LYKyfJMUWVeb",
        "outputId": "e0502853-21bd-44d6-97f9-6e6405000ce6"
      },
      "execution_count": null,
      "outputs": [
        {
          "output_type": "execute_result",
          "data": {
            "text/plain": [
              "['dense_4']"
            ]
          },
          "metadata": {},
          "execution_count": 81
        }
      ]
    },
    {
      "cell_type": "code",
      "source": [
        "model.get"
      ],
      "metadata": {
        "id": "DGqfZdA3WcEl"
      },
      "execution_count": null,
      "outputs": []
    },
    {
      "cell_type": "code",
      "source": [
        "model.output_shape[-1]"
      ],
      "metadata": {
        "colab": {
          "base_uri": "https://localhost:8080/"
        },
        "id": "p7KEs_fVWcZu",
        "outputId": "2dc418ec-e4a4-4383-8214-27a736ffdedb"
      },
      "execution_count": null,
      "outputs": [
        {
          "output_type": "execute_result",
          "data": {
            "text/plain": [
              "1"
            ]
          },
          "metadata": {},
          "execution_count": 85
        }
      ]
    },
    {
      "cell_type": "code",
      "source": [
        "decode_predictions(y_predict,top=1)"
      ],
      "metadata": {
        "colab": {
          "base_uri": "https://localhost:8080/",
          "height": 287
        },
        "id": "j71YRfpLRF_p",
        "outputId": "c914444e-b1c9-42e6-a872-bcff41ba9c4e"
      },
      "execution_count": null,
      "outputs": [
        {
          "output_type": "error",
          "ename": "ValueError",
          "evalue": "`decode_predictions` expects a batch of predictions (i.e. a 2D array of shape (samples, 1000)). Found array with shape: (1, 1)",
          "traceback": [
            "\u001b[0;31m---------------------------------------------------------------------------\u001b[0m",
            "\u001b[0;31mValueError\u001b[0m                                Traceback (most recent call last)",
            "\u001b[0;32m<ipython-input-77-0889a15e8d03>\u001b[0m in \u001b[0;36m<cell line: 1>\u001b[0;34m()\u001b[0m\n\u001b[0;32m----> 1\u001b[0;31m \u001b[0mdecode_predictions\u001b[0m\u001b[0;34m(\u001b[0m\u001b[0my_predict\u001b[0m\u001b[0;34m,\u001b[0m\u001b[0mtop\u001b[0m\u001b[0;34m=\u001b[0m\u001b[0;36m1\u001b[0m\u001b[0;34m)\u001b[0m\u001b[0;34m\u001b[0m\u001b[0;34m\u001b[0m\u001b[0m\n\u001b[0m",
            "\u001b[0;32m/usr/local/lib/python3.10/dist-packages/keras/src/applications/vgg16.py\u001b[0m in \u001b[0;36mdecode_predictions\u001b[0;34m(preds, top)\u001b[0m\n\u001b[1;32m    262\u001b[0m \u001b[0;34m@\u001b[0m\u001b[0mkeras_export\u001b[0m\u001b[0;34m(\u001b[0m\u001b[0;34m\"keras.applications.vgg16.decode_predictions\"\u001b[0m\u001b[0;34m)\u001b[0m\u001b[0;34m\u001b[0m\u001b[0;34m\u001b[0m\u001b[0m\n\u001b[1;32m    263\u001b[0m \u001b[0;32mdef\u001b[0m \u001b[0mdecode_predictions\u001b[0m\u001b[0;34m(\u001b[0m\u001b[0mpreds\u001b[0m\u001b[0;34m,\u001b[0m \u001b[0mtop\u001b[0m\u001b[0;34m=\u001b[0m\u001b[0;36m5\u001b[0m\u001b[0;34m)\u001b[0m\u001b[0;34m:\u001b[0m\u001b[0;34m\u001b[0m\u001b[0;34m\u001b[0m\u001b[0m\n\u001b[0;32m--> 264\u001b[0;31m     \u001b[0;32mreturn\u001b[0m \u001b[0mimagenet_utils\u001b[0m\u001b[0;34m.\u001b[0m\u001b[0mdecode_predictions\u001b[0m\u001b[0;34m(\u001b[0m\u001b[0mpreds\u001b[0m\u001b[0;34m,\u001b[0m \u001b[0mtop\u001b[0m\u001b[0;34m=\u001b[0m\u001b[0mtop\u001b[0m\u001b[0;34m)\u001b[0m\u001b[0;34m\u001b[0m\u001b[0;34m\u001b[0m\u001b[0m\n\u001b[0m\u001b[1;32m    265\u001b[0m \u001b[0;34m\u001b[0m\u001b[0m\n\u001b[1;32m    266\u001b[0m \u001b[0;34m\u001b[0m\u001b[0m\n",
            "\u001b[0;32m/usr/local/lib/python3.10/dist-packages/keras/src/applications/imagenet_utils.py\u001b[0m in \u001b[0;36mdecode_predictions\u001b[0;34m(preds, top)\u001b[0m\n\u001b[1;32m    152\u001b[0m \u001b[0;34m\u001b[0m\u001b[0m\n\u001b[1;32m    153\u001b[0m     \u001b[0;32mif\u001b[0m \u001b[0mlen\u001b[0m\u001b[0;34m(\u001b[0m\u001b[0mpreds\u001b[0m\u001b[0;34m.\u001b[0m\u001b[0mshape\u001b[0m\u001b[0;34m)\u001b[0m \u001b[0;34m!=\u001b[0m \u001b[0;36m2\u001b[0m \u001b[0;32mor\u001b[0m \u001b[0mpreds\u001b[0m\u001b[0;34m.\u001b[0m\u001b[0mshape\u001b[0m\u001b[0;34m[\u001b[0m\u001b[0;36m1\u001b[0m\u001b[0;34m]\u001b[0m \u001b[0;34m!=\u001b[0m \u001b[0;36m1000\u001b[0m\u001b[0;34m:\u001b[0m\u001b[0;34m\u001b[0m\u001b[0;34m\u001b[0m\u001b[0m\n\u001b[0;32m--> 154\u001b[0;31m         raise ValueError(\n\u001b[0m\u001b[1;32m    155\u001b[0m             \u001b[0;34m\"`decode_predictions` expects \"\u001b[0m\u001b[0;34m\u001b[0m\u001b[0;34m\u001b[0m\u001b[0m\n\u001b[1;32m    156\u001b[0m             \u001b[0;34m\"a batch of predictions \"\u001b[0m\u001b[0;34m\u001b[0m\u001b[0;34m\u001b[0m\u001b[0m\n",
            "\u001b[0;31mValueError\u001b[0m: `decode_predictions` expects a batch of predictions (i.e. a 2D array of shape (samples, 1000)). Found array with shape: (1, 1)"
          ]
        }
      ]
    },
    {
      "cell_type": "code",
      "source": [
        "model.predict(preprocessedImg)"
      ],
      "metadata": {
        "colab": {
          "base_uri": "https://localhost:8080/"
        },
        "id": "ui1ZdUzaTHXo",
        "outputId": "af60f37c-420b-47c9-854e-07a9992ca8c3"
      },
      "execution_count": null,
      "outputs": [
        {
          "output_type": "stream",
          "name": "stdout",
          "text": [
            "1/1 [==============================] - 0s 133ms/step\n"
          ]
        },
        {
          "output_type": "execute_result",
          "data": {
            "text/plain": [
              "array([[1.]], dtype=float32)"
            ]
          },
          "metadata": {},
          "execution_count": 87
        }
      ]
    },
    {
      "cell_type": "code",
      "source": [],
      "metadata": {
        "id": "Vggck_P7W92C"
      },
      "execution_count": null,
      "outputs": []
    }
  ],
  "metadata": {
    "colab": {
      "provenance": [],
      "gpuType": "T4"
    },
    "kernelspec": {
      "display_name": "Python 3",
      "name": "python3"
    },
    "language_info": {
      "name": "python"
    },
    "accelerator": "GPU"
  },
  "nbformat": 4,
  "nbformat_minor": 0
}