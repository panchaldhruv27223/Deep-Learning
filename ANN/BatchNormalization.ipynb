{
  "nbformat": 4,
  "nbformat_minor": 0,
  "metadata": {
    "colab": {
      "provenance": []
    },
    "kernelspec": {
      "name": "python3",
      "display_name": "Python 3"
    },
    "language_info": {
      "name": "python"
    }
  },
  "cells": [
    {
      "cell_type": "code",
      "execution_count": null,
      "metadata": {
        "id": "juTW5D6iiyFV"
      },
      "outputs": [],
      "source": [
        "import numpy as np\n",
        "import pandas as pd\n",
        "import os\n",
        "import tensorflow as tf\n",
        "import matplotlib.pyplot as plt\n",
        "import seaborn as sns\n",
        "import time\n",
        "%load_ext tensorboard"
      ]
    },
    {
      "cell_type": "code",
      "source": [
        "(X_train_full,y_train_full),(X_test,y_test) = tf.keras.datasets.fashion_mnist.load_data()\n",
        "X_train_full.shape, y_train_full.shape, X_test.shape, y_test.shape"
      ],
      "metadata": {
        "colab": {
          "base_uri": "https://localhost:8080/"
        },
        "id": "R4xqJAlljEpS",
        "outputId": "20d34856-fb92-42d8-91e5-27707d4a221e"
      },
      "execution_count": null,
      "outputs": [
        {
          "output_type": "stream",
          "name": "stdout",
          "text": [
            "Downloading data from https://storage.googleapis.com/tensorflow/tf-keras-datasets/train-labels-idx1-ubyte.gz\n",
            "29515/29515 [==============================] - 0s 0us/step\n",
            "Downloading data from https://storage.googleapis.com/tensorflow/tf-keras-datasets/train-images-idx3-ubyte.gz\n",
            "26421880/26421880 [==============================] - 0s 0us/step\n",
            "Downloading data from https://storage.googleapis.com/tensorflow/tf-keras-datasets/t10k-labels-idx1-ubyte.gz\n",
            "5148/5148 [==============================] - 0s 0us/step\n",
            "Downloading data from https://storage.googleapis.com/tensorflow/tf-keras-datasets/t10k-images-idx3-ubyte.gz\n",
            "4422102/4422102 [==============================] - 0s 0us/step\n"
          ]
        },
        {
          "output_type": "execute_result",
          "data": {
            "text/plain": [
              "((60000, 28, 28), (60000,), (10000, 28, 28), (10000,))"
            ]
          },
          "metadata": {},
          "execution_count": 2
        }
      ]
    },
    {
      "cell_type": "code",
      "source": [
        "## normalized\n",
        "X_test = X_test/255.0\n",
        "X_train_full = X_train_full/255.0\n",
        "X_valid, X_train = X_train_full[:5000], X_train_full[5000:]\n",
        "y_valid, y_train = y_train_full[:5000], y_train_full[5000:]\n",
        "\n",
        "X_valid.shape,X_train.shape,y_valid.shape,y_train.shape,X_test.shape,y_test.shape"
      ],
      "metadata": {
        "colab": {
          "base_uri": "https://localhost:8080/"
        },
        "id": "PlhoWzAdjduG",
        "outputId": "5ae57b1d-e5d9-4e35-fd30-53b518f36068"
      },
      "execution_count": null,
      "outputs": [
        {
          "output_type": "execute_result",
          "data": {
            "text/plain": [
              "((5000, 28, 28), (55000, 28, 28), (5000,), (55000,), (10000, 28, 28), (10000,))"
            ]
          },
          "metadata": {},
          "execution_count": 3
        }
      ]
    },
    {
      "cell_type": "code",
      "source": [
        "tf.random.set_seed(42)\n",
        "np.random.seed(42)\n",
        "\n",
        "layers = [\n",
        "    tf.keras.layers.Flatten(input_shape=[28,28]),\n",
        "    tf.keras.layers.Dense(300,kernel_initializer=\"he_normal\"),\n",
        "    tf.keras.layers.LeakyReLU(),\n",
        "    tf.keras.layers.Dense(100,kernel_initializer=\"he_normal\"),\n",
        "    tf.keras.layers.LeakyReLU(),\n",
        "    tf.keras.layers.Dense(10,activation=\"softmax\")\n",
        "]\n",
        "\n",
        "model = tf.keras.models.Sequential(layers)\n",
        "model"
      ],
      "metadata": {
        "colab": {
          "base_uri": "https://localhost:8080/"
        },
        "id": "bi6eoeepkRFK",
        "outputId": "54aa7e32-968b-4b37-f3d1-ff7df101568e"
      },
      "execution_count": null,
      "outputs": [
        {
          "output_type": "execute_result",
          "data": {
            "text/plain": [
              "<keras.src.engine.sequential.Sequential at 0x7e78446839d0>"
            ]
          },
          "metadata": {},
          "execution_count": 4
        }
      ]
    },
    {
      "cell_type": "code",
      "source": [
        "model.compile(\n",
        "    optimizer= tf.keras.optimizers.SGD(learning_rate=1e-3), loss=tf.keras.losses.SparseCategoricalCrossentropy(), metrics=[\"accuracy\"]\n",
        "    )\n"
      ],
      "metadata": {
        "id": "C8Re-4r4lvWH"
      },
      "execution_count": null,
      "outputs": []
    },
    {
      "cell_type": "code",
      "source": [
        "model.summary()"
      ],
      "metadata": {
        "colab": {
          "base_uri": "https://localhost:8080/"
        },
        "id": "uOVoHCpqmMwK",
        "outputId": "289f1523-b29e-4c65-931a-f7b92c462d5d"
      },
      "execution_count": null,
      "outputs": [
        {
          "output_type": "stream",
          "name": "stdout",
          "text": [
            "Model: \"sequential\"\n",
            "_________________________________________________________________\n",
            " Layer (type)                Output Shape              Param #   \n",
            "=================================================================\n",
            " flatten (Flatten)           (None, 784)               0         \n",
            "                                                                 \n",
            " dense (Dense)               (None, 300)               235500    \n",
            "                                                                 \n",
            " leaky_re_lu (LeakyReLU)     (None, 300)               0         \n",
            "                                                                 \n",
            " dense_1 (Dense)             (None, 100)               30100     \n",
            "                                                                 \n",
            " leaky_re_lu_1 (LeakyReLU)   (None, 100)               0         \n",
            "                                                                 \n",
            " dense_2 (Dense)             (None, 10)                1010      \n",
            "                                                                 \n",
            "=================================================================\n",
            "Total params: 266610 (1.02 MB)\n",
            "Trainable params: 266610 (1.02 MB)\n",
            "Non-trainable params: 0 (0.00 Byte)\n",
            "_________________________________________________________________\n"
          ]
        }
      ]
    },
    {
      "cell_type": "code",
      "source": [
        "28*28"
      ],
      "metadata": {
        "colab": {
          "base_uri": "https://localhost:8080/"
        },
        "id": "09kTdwq3mS4K",
        "outputId": "df230a00-428a-4ab9-cb65-12566a4e34c5"
      },
      "execution_count": null,
      "outputs": [
        {
          "output_type": "execute_result",
          "data": {
            "text/plain": [
              "784"
            ]
          },
          "metadata": {},
          "execution_count": 7
        }
      ]
    },
    {
      "cell_type": "code",
      "source": [
        "300 * 784"
      ],
      "metadata": {
        "colab": {
          "base_uri": "https://localhost:8080/"
        },
        "id": "KtZaG5LXmbW9",
        "outputId": "e21a0900-b015-436b-f231-09c9c39c37f1"
      },
      "execution_count": null,
      "outputs": [
        {
          "output_type": "execute_result",
          "data": {
            "text/plain": [
              "235200"
            ]
          },
          "metadata": {},
          "execution_count": 8
        }
      ]
    },
    {
      "cell_type": "code",
      "source": [
        "300 * 784 + 300"
      ],
      "metadata": {
        "colab": {
          "base_uri": "https://localhost:8080/"
        },
        "id": "csUW4UqAmfW1",
        "outputId": "651d7484-628a-45bb-a71c-95b0bc5d0bd5"
      },
      "execution_count": null,
      "outputs": [
        {
          "output_type": "execute_result",
          "data": {
            "text/plain": [
              "235500"
            ]
          },
          "metadata": {},
          "execution_count": 9
        }
      ]
    },
    {
      "cell_type": "code",
      "source": [
        "import time"
      ],
      "metadata": {
        "id": "LSJxVdZumhW3"
      },
      "execution_count": null,
      "outputs": []
    },
    {
      "cell_type": "code",
      "source": [
        "start = time.time()\n",
        "\n",
        "history = model.fit(X_train, y_train, epochs=10, validation_data=(X_valid,y_valid),verbose=2)\n",
        "history\n",
        "end = time.time()\n",
        "print(\"total runing time it take :\",end-start)"
      ],
      "metadata": {
        "colab": {
          "base_uri": "https://localhost:8080/"
        },
        "id": "1N7OKGs4nAm4",
        "outputId": "1c6b3566-c81a-4a89-fc5b-edf403fe582a"
      },
      "execution_count": null,
      "outputs": [
        {
          "output_type": "stream",
          "name": "stdout",
          "text": [
            "Epoch 1/10\n",
            "1719/1719 - 9s - loss: 1.2496 - accuracy: 0.6165 - val_loss: 0.8586 - val_accuracy: 0.7192 - 9s/epoch - 5ms/step\n",
            "Epoch 2/10\n",
            "1719/1719 - 7s - loss: 0.7764 - accuracy: 0.7467 - val_loss: 0.6959 - val_accuracy: 0.7726 - 7s/epoch - 4ms/step\n",
            "Epoch 3/10\n",
            "1719/1719 - 5s - loss: 0.6674 - accuracy: 0.7813 - val_loss: 0.6331 - val_accuracy: 0.7896 - 5s/epoch - 3ms/step\n",
            "Epoch 4/10\n",
            "1719/1719 - 6s - loss: 0.6107 - accuracy: 0.8008 - val_loss: 0.5810 - val_accuracy: 0.8088 - 6s/epoch - 3ms/step\n",
            "Epoch 5/10\n",
            "1719/1719 - 5s - loss: 0.5742 - accuracy: 0.8103 - val_loss: 0.5509 - val_accuracy: 0.8172 - 5s/epoch - 3ms/step\n",
            "Epoch 6/10\n",
            "1719/1719 - 5s - loss: 0.5480 - accuracy: 0.8176 - val_loss: 0.5291 - val_accuracy: 0.8252 - 5s/epoch - 3ms/step\n",
            "Epoch 7/10\n",
            "1719/1719 - 6s - loss: 0.5282 - accuracy: 0.8217 - val_loss: 0.5113 - val_accuracy: 0.8304 - 6s/epoch - 3ms/step\n",
            "Epoch 8/10\n",
            "1719/1719 - 5s - loss: 0.5129 - accuracy: 0.8268 - val_loss: 0.5040 - val_accuracy: 0.8292 - 5s/epoch - 3ms/step\n",
            "Epoch 9/10\n",
            "1719/1719 - 6s - loss: 0.5007 - accuracy: 0.8293 - val_loss: 0.4874 - val_accuracy: 0.8370 - 6s/epoch - 3ms/step\n",
            "Epoch 10/10\n",
            "1719/1719 - 5s - loss: 0.4901 - accuracy: 0.8322 - val_loss: 0.4804 - val_accuracy: 0.8392 - 5s/epoch - 3ms/step\n",
            "total runing time it take : 83.24979281425476\n"
          ]
        }
      ]
    },
    {
      "cell_type": "code",
      "source": [
        "# After applying batch normalization"
      ],
      "metadata": {
        "id": "bWAwOhvnoaus"
      },
      "execution_count": null,
      "outputs": []
    },
    {
      "cell_type": "code",
      "source": [
        "del model"
      ],
      "metadata": {
        "id": "PTLAWyDeqyfJ"
      },
      "execution_count": null,
      "outputs": []
    },
    {
      "cell_type": "code",
      "source": [
        "layersBn = [\n",
        "    tf.keras.layers.Flatten(input_shape=[28,28]),\n",
        "    tf.keras.layers.BatchNormalization(),\n",
        "    tf.keras.layers.Dense(300,activation=\"relu\"),\n",
        "    tf.keras.layers.BatchNormalization(),\n",
        "    tf.keras.layers.Dense(100,activation=\"relu\"),\n",
        "    tf.keras.layers.BatchNormalization(),\n",
        "    tf.keras.layers.Dense(10,activation=\"softmax\")\n",
        "]\n",
        "\n",
        "model = tf.keras.Sequential(layersBn)\n"
      ],
      "metadata": {
        "id": "zwtfLxaPqz6O"
      },
      "execution_count": null,
      "outputs": []
    },
    {
      "cell_type": "code",
      "source": [
        "model.summary()"
      ],
      "metadata": {
        "colab": {
          "base_uri": "https://localhost:8080/"
        },
        "id": "MzppioDzr4Bp",
        "outputId": "f0defd84-33f0-48ea-cbd1-fad540e0c2f9"
      },
      "execution_count": null,
      "outputs": [
        {
          "output_type": "stream",
          "name": "stdout",
          "text": [
            "Model: \"sequential_1\"\n",
            "_________________________________________________________________\n",
            " Layer (type)                Output Shape              Param #   \n",
            "=================================================================\n",
            " flatten_1 (Flatten)         (None, 784)               0         \n",
            "                                                                 \n",
            " batch_normalization (Batch  (None, 784)               3136      \n",
            " Normalization)                                                  \n",
            "                                                                 \n",
            " dense_3 (Dense)             (None, 300)               235500    \n",
            "                                                                 \n",
            " batch_normalization_1 (Bat  (None, 300)               1200      \n",
            " chNormalization)                                                \n",
            "                                                                 \n",
            " dense_4 (Dense)             (None, 100)               30100     \n",
            "                                                                 \n",
            " batch_normalization_2 (Bat  (None, 100)               400       \n",
            " chNormalization)                                                \n",
            "                                                                 \n",
            " dense_5 (Dense)             (None, 10)                1010      \n",
            "                                                                 \n",
            "=================================================================\n",
            "Total params: 271346 (1.04 MB)\n",
            "Trainable params: 268978 (1.03 MB)\n",
            "Non-trainable params: 2368 (9.25 KB)\n",
            "_________________________________________________________________\n"
          ]
        }
      ]
    },
    {
      "cell_type": "code",
      "source": [
        "784*2"
      ],
      "metadata": {
        "id": "-kshLQjqr5Rx",
        "colab": {
          "base_uri": "https://localhost:8080/"
        },
        "outputId": "5ff3cec4-6129-4666-b33b-01bc521936aa"
      },
      "execution_count": null,
      "outputs": [
        {
          "output_type": "execute_result",
          "data": {
            "text/plain": [
              "1568"
            ]
          },
          "metadata": {},
          "execution_count": 16
        }
      ]
    },
    {
      "cell_type": "code",
      "source": [
        "784*4"
      ],
      "metadata": {
        "colab": {
          "base_uri": "https://localhost:8080/"
        },
        "id": "6e5UkR0RipAt",
        "outputId": "cbe20958-9efa-45aa-f989-477e90a33231"
      },
      "execution_count": null,
      "outputs": [
        {
          "output_type": "execute_result",
          "data": {
            "text/plain": [
              "3136"
            ]
          },
          "metadata": {},
          "execution_count": 17
        }
      ]
    },
    {
      "cell_type": "code",
      "source": [
        "## mean,std and gaama, beta total 4 parameters out of them 2 are traninable and\n",
        "## 2  are non- trainable"
      ],
      "metadata": {
        "id": "AyzBpcC2irb9"
      },
      "execution_count": null,
      "outputs": []
    },
    {
      "cell_type": "code",
      "source": [
        "300*4"
      ],
      "metadata": {
        "colab": {
          "base_uri": "https://localhost:8080/"
        },
        "id": "sFT9MbDbi9kc",
        "outputId": "0922fdbc-679c-4d19-d0c0-0c787e40cd3d"
      },
      "execution_count": null,
      "outputs": [
        {
          "output_type": "execute_result",
          "data": {
            "text/plain": [
              "1200"
            ]
          },
          "metadata": {},
          "execution_count": 19
        }
      ]
    },
    {
      "cell_type": "code",
      "source": [
        "3136 + 1200 + 400"
      ],
      "metadata": {
        "colab": {
          "base_uri": "https://localhost:8080/"
        },
        "id": "ByZV_EWSjFSc",
        "outputId": "b236cee4-c99d-48d8-b6c1-52720e08b6e7"
      },
      "execution_count": null,
      "outputs": [
        {
          "output_type": "execute_result",
          "data": {
            "text/plain": [
              "4736"
            ]
          },
          "metadata": {},
          "execution_count": 20
        }
      ]
    },
    {
      "cell_type": "code",
      "source": [
        "(3136 + 1200 + 400 )/2"
      ],
      "metadata": {
        "colab": {
          "base_uri": "https://localhost:8080/"
        },
        "id": "suiibpXrjZNB",
        "outputId": "a7a63563-89ca-4445-8698-cbe2ebe1455e"
      },
      "execution_count": null,
      "outputs": [
        {
          "output_type": "execute_result",
          "data": {
            "text/plain": [
              "2368.0"
            ]
          },
          "metadata": {},
          "execution_count": 21
        }
      ]
    },
    {
      "cell_type": "code",
      "source": [
        "## half are traninable and half of them are not traniable"
      ],
      "metadata": {
        "id": "2-rqLkygjcIk"
      },
      "execution_count": null,
      "outputs": []
    },
    {
      "cell_type": "code",
      "source": [
        "300*784 +300"
      ],
      "metadata": {
        "colab": {
          "base_uri": "https://localhost:8080/"
        },
        "id": "zAjCfjXhjkFK",
        "outputId": "46cb6843-ffbb-4b28-8880-3c51d5e7f8d2"
      },
      "execution_count": null,
      "outputs": [
        {
          "output_type": "execute_result",
          "data": {
            "text/plain": [
              "235500"
            ]
          },
          "metadata": {},
          "execution_count": 24
        }
      ]
    },
    {
      "cell_type": "code",
      "source": [
        "300*100 + 100"
      ],
      "metadata": {
        "colab": {
          "base_uri": "https://localhost:8080/"
        },
        "id": "bIgmJ2i8joV8",
        "outputId": "ad9973b8-00a1-4c09-f3c4-bcf07459061d"
      },
      "execution_count": null,
      "outputs": [
        {
          "output_type": "execute_result",
          "data": {
            "text/plain": [
              "30100"
            ]
          },
          "metadata": {},
          "execution_count": 25
        }
      ]
    },
    {
      "cell_type": "code",
      "source": [
        "100*10 + 10"
      ],
      "metadata": {
        "colab": {
          "base_uri": "https://localhost:8080/"
        },
        "id": "a7LC26u6jzbj",
        "outputId": "eb56370e-b7c7-472a-ade9-f7653da5297c"
      },
      "execution_count": null,
      "outputs": [
        {
          "output_type": "execute_result",
          "data": {
            "text/plain": [
              "1010"
            ]
          },
          "metadata": {},
          "execution_count": 26
        }
      ]
    },
    {
      "cell_type": "code",
      "source": [
        "235500 + 30100 + 1010"
      ],
      "metadata": {
        "colab": {
          "base_uri": "https://localhost:8080/"
        },
        "id": "CSDNZx-1j3CC",
        "outputId": "b771e345-557c-4641-ec76-58c500fc24a2"
      },
      "execution_count": null,
      "outputs": [
        {
          "output_type": "execute_result",
          "data": {
            "text/plain": [
              "266610"
            ]
          },
          "metadata": {},
          "execution_count": 27
        }
      ]
    },
    {
      "cell_type": "code",
      "source": [
        "266610 + 2368.0"
      ],
      "metadata": {
        "colab": {
          "base_uri": "https://localhost:8080/"
        },
        "id": "EYANgeKpj6tf",
        "outputId": "8a0150ae-8af4-497f-fd90-b07b991b4ca3"
      },
      "execution_count": null,
      "outputs": [
        {
          "output_type": "execute_result",
          "data": {
            "text/plain": [
              "268978.0"
            ]
          },
          "metadata": {},
          "execution_count": 28
        }
      ]
    },
    {
      "cell_type": "code",
      "source": [
        "268978.0 + 2368"
      ],
      "metadata": {
        "colab": {
          "base_uri": "https://localhost:8080/"
        },
        "id": "OR-6sCI3j_4x",
        "outputId": "06e63a8a-1402-4116-eafc-5f59ecdeae28"
      },
      "execution_count": null,
      "outputs": [
        {
          "output_type": "execute_result",
          "data": {
            "text/plain": [
              "271346.0"
            ]
          },
          "metadata": {},
          "execution_count": 29
        }
      ]
    },
    {
      "cell_type": "code",
      "source": [
        "model.compile(optimizer = tf.keras.optimizers.SGD(learning_rate=1e-3),\n",
        "              loss= tf.keras.losses.sparse_categorical_crossentropy,\n",
        "              metrics=[\"accuracy\"])"
      ],
      "metadata": {
        "id": "Hr85EyGqkQqs"
      },
      "execution_count": null,
      "outputs": []
    },
    {
      "cell_type": "code",
      "source": [
        "start = time.time()\n",
        "history = model.fit(X_train,y_train,epochs=10,validation_data=(X_valid,y_valid),verbose=2)\n",
        "\n",
        "end = time.time()\n",
        "print(\"total time it take is :\",end-start)"
      ],
      "metadata": {
        "colab": {
          "base_uri": "https://localhost:8080/"
        },
        "id": "CdE7e123kFyp",
        "outputId": "25997919-41dd-49ee-ae12-2621a63b89ff"
      },
      "execution_count": null,
      "outputs": [
        {
          "output_type": "stream",
          "name": "stdout",
          "text": [
            "Epoch 1/10\n",
            "1719/1719 - 9s - loss: 0.8510 - accuracy: 0.7201 - val_loss: 0.5525 - val_accuracy: 0.8164 - 9s/epoch - 5ms/step\n",
            "Epoch 2/10\n",
            "1719/1719 - 8s - loss: 0.5715 - accuracy: 0.8059 - val_loss: 0.4736 - val_accuracy: 0.8390 - 8s/epoch - 5ms/step\n",
            "Epoch 3/10\n",
            "1719/1719 - 8s - loss: 0.5167 - accuracy: 0.8227 - val_loss: 0.4383 - val_accuracy: 0.8462 - 8s/epoch - 4ms/step\n",
            "Epoch 4/10\n",
            "1719/1719 - 8s - loss: 0.4795 - accuracy: 0.8347 - val_loss: 0.4169 - val_accuracy: 0.8530 - 8s/epoch - 5ms/step\n",
            "Epoch 5/10\n",
            "1719/1719 - 8s - loss: 0.4548 - accuracy: 0.8428 - val_loss: 0.3999 - val_accuracy: 0.8592 - 8s/epoch - 5ms/step\n",
            "Epoch 6/10\n",
            "1719/1719 - 8s - loss: 0.4383 - accuracy: 0.8485 - val_loss: 0.3885 - val_accuracy: 0.8620 - 8s/epoch - 5ms/step\n",
            "Epoch 7/10\n",
            "1719/1719 - 9s - loss: 0.4261 - accuracy: 0.8521 - val_loss: 0.3780 - val_accuracy: 0.8664 - 9s/epoch - 6ms/step\n",
            "Epoch 8/10\n",
            "1719/1719 - 8s - loss: 0.4134 - accuracy: 0.8557 - val_loss: 0.3723 - val_accuracy: 0.8660 - 8s/epoch - 5ms/step\n",
            "Epoch 9/10\n",
            "1719/1719 - 7s - loss: 0.4034 - accuracy: 0.8588 - val_loss: 0.3660 - val_accuracy: 0.8690 - 7s/epoch - 4ms/step\n",
            "Epoch 10/10\n",
            "1719/1719 - 8s - loss: 0.3921 - accuracy: 0.8626 - val_loss: 0.3609 - val_accuracy: 0.8736 - 8s/epoch - 5ms/step\n",
            "total time it take is : 143.33548402786255\n"
          ]
        }
      ]
    },
    {
      "cell_type": "code",
      "source": [
        "## with more accuracy and it take less time"
      ],
      "metadata": {
        "id": "f38ZsDDjlaGr"
      },
      "execution_count": null,
      "outputs": []
    },
    {
      "cell_type": "code",
      "source": [],
      "metadata": {
        "id": "bTcVnLJ-l5Co"
      },
      "execution_count": null,
      "outputs": []
    }
  ]
}