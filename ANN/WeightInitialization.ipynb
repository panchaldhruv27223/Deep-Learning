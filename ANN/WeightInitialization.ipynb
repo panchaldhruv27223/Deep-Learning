{
  "nbformat": 4,
  "nbformat_minor": 0,
  "metadata": {
    "colab": {
      "provenance": []
    },
    "kernelspec": {
      "name": "python3",
      "display_name": "Python 3"
    },
    "language_info": {
      "name": "python"
    }
  },
  "cells": [
    {
      "cell_type": "code",
      "execution_count": null,
      "metadata": {
        "id": "VaOxGCr-VD2l"
      },
      "outputs": [],
      "source": [
        "import pandas as pd\n",
        "import numpy as np\n",
        "import seaborn as sns\n",
        "import matplotlib.pyplot as plt\n",
        "import tensorflow as tf"
      ]
    },
    {
      "cell_type": "code",
      "source": [
        "mnist = tf.keras.datasets.mnist"
      ],
      "metadata": {
        "id": "DS4dj4GoVYUj"
      },
      "execution_count": null,
      "outputs": []
    },
    {
      "cell_type": "code",
      "source": [
        "(X_train_full, y_train_full),(X_test,y_test) = mnist.load_data()"
      ],
      "metadata": {
        "id": "LAEt1_MIWGKs"
      },
      "execution_count": null,
      "outputs": []
    },
    {
      "cell_type": "code",
      "source": [
        "X_valid,X_train = X_train_full[:5000]/255.0,X_train_full[5000:]/255.0\n",
        "y_valid , y_train = y_train_full[:5000] , y_train_full[5000:]\n",
        "X_valid.shape, X_train.shape, y_valid.shape, y_train.shape"
      ],
      "metadata": {
        "colab": {
          "base_uri": "https://localhost:8080/"
        },
        "id": "s4gif5IIWbVL",
        "outputId": "61a65361-04f5-487b-ad2c-e579460752de"
      },
      "execution_count": null,
      "outputs": [
        {
          "output_type": "execute_result",
          "data": {
            "text/plain": [
              "((5000, 28, 28), (55000, 28, 28), (5000,), (55000,))"
            ]
          },
          "metadata": {},
          "execution_count": 21
        }
      ]
    },
    {
      "cell_type": "code",
      "source": [
        "X_test.shape, y_test.shape"
      ],
      "metadata": {
        "colab": {
          "base_uri": "https://localhost:8080/"
        },
        "id": "y0-ZCsYgW6Pw",
        "outputId": "b9946235-f16e-43e1-f3fe-f34f3040d37a"
      },
      "execution_count": null,
      "outputs": [
        {
          "output_type": "execute_result",
          "data": {
            "text/plain": [
              "((10000, 28, 28), (10000,))"
            ]
          },
          "metadata": {},
          "execution_count": 22
        }
      ]
    },
    {
      "cell_type": "code",
      "source": [
        "from tensorflow.keras.layers import Dense, Flatten\n",
        "from tensorflow.keras import regularizers"
      ],
      "metadata": {
        "id": "DyzdRvtCXAYS"
      },
      "execution_count": null,
      "outputs": []
    },
    {
      "cell_type": "code",
      "source": [
        "plt.imshow(X_test[0], cmap=\"binary\")"
      ],
      "metadata": {
        "colab": {
          "base_uri": "https://localhost:8080/",
          "height": 447
        },
        "id": "ZcZmgmCiXZLW",
        "outputId": "9ae19437-be03-49ba-8872-ccb40a7b0a98"
      },
      "execution_count": null,
      "outputs": [
        {
          "output_type": "execute_result",
          "data": {
            "text/plain": [
              "<matplotlib.image.AxesImage at 0x7d9a3455a350>"
            ]
          },
          "metadata": {},
          "execution_count": 24
        },
        {
          "output_type": "display_data",
          "data": {
            "text/plain": [
              "<Figure size 640x480 with 1 Axes>"
            ],
            "image/png": "[encoded data removed]"
          },
          "metadata": {}
        }
      ]
    },
    {
      "cell_type": "code",
      "source": [
        "from tensorflow.keras.models import Sequential\n",
        "from keras.layers import Dropout"
      ],
      "metadata": {
        "id": "ljGytZwdXu9x"
      },
      "execution_count": null,
      "outputs": []
    },
    {
      "cell_type": "code",
      "source": [
        "model = Sequential()\n",
        "model.add(Flatten(input_shape = (28,28), name = \"inputLayer\"))\n",
        "model.add(Dense(units=64, activation= \"relu\", kernel_initializer = tf.keras.initializers.HeNormal(seed=None)))\n",
        "model.add(Dropout(0.2))\n",
        "model.add(Dense(units=32, activation = \"relu\", kernel_initializer = tf.keras.initializers.HeUniform(seed=None)))\n",
        "model.add(Dropout(0.1))\n",
        "model.add(Dense(units=16, activation = \"tanh\", kernel_initializer = tf.keras.initializers.GlorotNormal(seed=None)))\n",
        "model.add(Dropout(0.2))\n",
        "model.add(Dense(10, activation = \"softmax\"))"
      ],
      "metadata": {
        "id": "OVLN_qSSYKXi"
      },
      "execution_count": null,
      "outputs": []
    },
    {
      "cell_type": "code",
      "source": [
        "model.summary()"
      ],
      "metadata": {
        "colab": {
          "base_uri": "https://localhost:8080/"
        },
        "id": "LMHMK3-zaAJg",
        "outputId": "eb544ee6-437e-4184-d07a-44dc42c88da8"
      },
      "execution_count": null,
      "outputs": [
        {
          "output_type": "stream",
          "name": "stdout",
          "text": [
            "Model: \"sequential_2\"\n",
            "_________________________________________________________________\n",
            " Layer (type)                Output Shape              Param #   \n",
            "=================================================================\n",
            " inputLayer (Flatten)        (None, 784)               0         \n",
            "                                                                 \n",
            " dense_8 (Dense)             (None, 64)                50240     \n",
            "                                                                 \n",
            " dropout_6 (Dropout)         (None, 64)                0         \n",
            "                                                                 \n",
            " dense_9 (Dense)             (None, 32)                2080      \n",
            "                                                                 \n",
            " dropout_7 (Dropout)         (None, 32)                0         \n",
            "                                                                 \n",
            " dense_10 (Dense)            (None, 16)                528       \n",
            "                                                                 \n",
            " dropout_8 (Dropout)         (None, 16)                0         \n",
            "                                                                 \n",
            " dense_11 (Dense)            (None, 10)                170       \n",
            "                                                                 \n",
            "=================================================================\n",
            "Total params: 53018 (207.10 KB)\n",
            "Trainable params: 53018 (207.10 KB)\n",
            "Non-trainable params: 0 (0.00 Byte)\n",
            "_________________________________________________________________\n"
          ]
        }
      ]
    },
    {
      "cell_type": "code",
      "source": [
        "lossFunction = \"sparse_categorical_crossentropy\"\n",
        "optimizer = \"SGD\"\n",
        "sgd = tf.keras.optimizers.SGD(\n",
        "    learning_rate = 0.01,\n",
        "    momentum = 0\n",
        ")\n",
        "metrics = [\"accuracy\"]\n",
        "\n",
        "model.compile(loss=lossFunction, optimizer= optimizer , metrics = metrics)"
      ],
      "metadata": {
        "id": "NnpfbxBeaBC0"
      },
      "execution_count": null,
      "outputs": []
    },
    {
      "cell_type": "code",
      "source": [
        "epochs = 5\n",
        "validation_set = (X_valid,y_valid)\n",
        "model.fit(X_train,y_train,validation_data= validation_set, epochs = epochs, batch_size = 32)"
      ],
      "metadata": {
        "colab": {
          "base_uri": "https://localhost:8080/"
        },
        "id": "lrE0bsxhgMDx",
        "outputId": "a7ea3b94-68de-4a03-c484-343ecddaf191"
      },
      "execution_count": null,
      "outputs": [
        {
          "output_type": "stream",
          "name": "stdout",
          "text": [
            "Epoch 1/5\n",
            "1719/1719 [==============================] - 6s 3ms/step - loss: 1.1374 - accuracy: 0.6512 - val_loss: 0.4877 - val_accuracy: 0.8798\n",
            "Epoch 2/5\n",
            "1719/1719 [==============================] - 5s 3ms/step - loss: 0.5786 - accuracy: 0.8369 - val_loss: 0.3149 - val_accuracy: 0.9152\n",
            "Epoch 3/5\n",
            "1719/1719 [==============================] - 5s 3ms/step - loss: 0.4374 - accuracy: 0.8799 - val_loss: 0.2475 - val_accuracy: 0.9314\n",
            "Epoch 4/5\n",
            "1719/1719 [==============================] - 6s 3ms/step - loss: 0.3714 - accuracy: 0.8986 - val_loss: 0.2111 - val_accuracy: 0.9408\n",
            "Epoch 5/5\n",
            "1719/1719 [==============================] - 5s 3ms/step - loss: 0.3289 - accuracy: 0.9101 - val_loss: 0.1907 - val_accuracy: 0.9458\n"
          ]
        },
        {
          "output_type": "execute_result",
          "data": {
            "text/plain": [
              "<keras.src.callbacks.History at 0x7d9a34559450>"
            ]
          },
          "metadata": {},
          "execution_count": 32
        }
      ]
    },
    {
      "cell_type": "code",
      "source": [],
      "metadata": {
        "id": "v8iG7JLagqVg"
      },
      "execution_count": null,
      "outputs": []
    }
  ]
}